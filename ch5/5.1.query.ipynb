{
 "cells": [
  {
   "cell_type": "markdown",
   "id": "c90ea2a3-251c-4a97-8521-cb4c5f76b966",
   "metadata": {},
   "source": [
    "Clean the raw Airbnb_Open_Data.csv for use with this chapter"
   ]
  },
  {
   "cell_type": "code",
   "execution_count": null,
   "id": "ba42e1e6-c878-4c13-8b40-1cb7fb81236f",
   "metadata": {
    "tags": []
   },
   "outputs": [],
   "source": [
    "import pandas as pd\n",
    "import re\n",
    "\n",
    "def clean_column(name):\n",
    "    name = name.lower().strip()\n",
    "    name = re.sub(r'[\\W+ ]', '_', name)\n",
    "    return name\n",
    "\n",
    "def clean_column_names(df):\n",
    "    df.columns = [clean_column(col) for col in df.columns]\n",
    "    return df\n",
    "\n",
    "df = pd.read_csv('../../../datasets/Airbnb_Open_Data.csv')\n",
    "df = df.rename(columns={'neighbourhood group': 'neighborhood group', 'neighbourhood': 'neighborhood', 'long': 'longitude', 'lat': 'latitude'})\n",
    "df = clean_column_names(df)\n",
    "df = df.drop(columns=['license', 'country', 'country_code'])\n",
    "df.to_csv('Airbnb_Open_Data_ch5.csv', index=False)"
   ]
  },
  {
   "cell_type": "code",
   "execution_count": null,
   "id": "f5263c93-b670-4b9b-9bda-9a70eb70db17",
   "metadata": {
    "tags": []
   },
   "outputs": [],
   "source": [
    "df.info()"
   ]
  },
  {
   "cell_type": "code",
   "execution_count": null,
   "id": "6283c413-c035-4707-a482-ee49871fa1ed",
   "metadata": {
    "tags": []
   },
   "outputs": [],
   "source": [
    "import pandas as pd\n",
    "\n",
    "df = pd.read_csv('Airbnb_Open_Data_ch5.csv')\n",
    "df.info()"
   ]
  },
  {
   "cell_type": "markdown",
   "id": "2d15cca5-1493-461d-8bdd-98eaaf5f4099",
   "metadata": {},
   "source": [
    "Using Boolean indexing"
   ]
  },
  {
   "cell_type": "code",
   "execution_count": null,
   "id": "1a6baa03-da8f-4e00-8a71-c5d7d12e66cf",
   "metadata": {
    "tags": []
   },
   "outputs": [],
   "source": [
    "df[df.minimum_nights < 7].iloc[0:5, 1:5]"
   ]
  },
  {
   "cell_type": "markdown",
   "id": "73a1eaab-f0c2-4f24-a40a-8a50652ef67f",
   "metadata": {},
   "source": [
    "Boolean indexing with several expressions"
   ]
  },
  {
   "cell_type": "code",
   "execution_count": null,
   "id": "03a976df-7482-4b43-99e7-c3ec1f1196a4",
   "metadata": {
    "tags": []
   },
   "outputs": [],
   "source": [
    "df[((df.minimum_nights > 3) & (df.minimum_nights < 7)) & ((df.neighborhood == 'Williamsburg') | (df.neighborhood == 'Bushwick'))].iloc[0:5, 1:5]"
   ]
  },
  {
   "cell_type": "markdown",
   "id": "e8237c46-fc1d-4666-a993-c4d6961ecb5c",
   "metadata": {},
   "source": [
    "Equivalents of previous examples using query()"
   ]
  },
  {
   "cell_type": "code",
   "execution_count": null,
   "id": "381004b8-9f2f-468e-b993-e2b5e7311b2d",
   "metadata": {
    "tags": []
   },
   "outputs": [],
   "source": [
    "df.query(\"(minimum_nights > 3 and minimum_nights < 7) and neighborhood in ['Williamsburg', 'Bushwick']\").iloc[0:5, 1:5]"
   ]
  },
  {
   "cell_type": "markdown",
   "id": "7328cffd-79b3-402a-9edf-628133c49345",
   "metadata": {},
   "source": [
    "Example using the index and a string method"
   ]
  },
  {
   "cell_type": "code",
   "execution_count": null,
   "id": "1913d9f3-2476-45c1-910e-0130b2cf5f02",
   "metadata": {
    "tags": []
   },
   "outputs": [],
   "source": [
    "df.query('index < 1000 and room_type.str.contains(\"Private\") ').iloc[0:5, 1:5]"
   ]
  },
  {
   "cell_type": "markdown",
   "id": "55ef8a11-b7b7-41f0-81db-004fa127e3c6",
   "metadata": {},
   "source": [
    "Example using variables and the in operator"
   ]
  },
  {
   "cell_type": "code",
   "execution_count": null,
   "id": "1e8037e4-4783-48ff-8362-0e23f3be7e8e",
   "metadata": {
    "tags": []
   },
   "outputs": [],
   "source": [
    "neighborhood_list = ['Midtown', 'Tribeca', 'East Village']\n",
    "min_reviews = 20\n",
    "df.query('neighborhood in @neighborhood_list and number_of_reviews > @min_reviews').iloc[0:5, 1:5]"
   ]
  },
  {
   "cell_type": "markdown",
   "id": "ff475487-980f-4467-9577-ea9562acbbf8",
   "metadata": {},
   "source": [
    "Using math expressions"
   ]
  },
  {
   "cell_type": "code",
   "execution_count": null,
   "id": "92f82525-74b2-4971-8da5-d3913ea5bd4b",
   "metadata": {
    "tags": []
   },
   "outputs": [],
   "source": [
    "df = pd.DataFrame({'height': [5, 8, 15, 32], 'width': [10, 20, 3, 7]})\n",
    "df.query('height * width <= 50')"
   ]
  },
  {
   "cell_type": "markdown",
   "id": "42c28f8c-2265-441f-9d5c-3192e763f27e",
   "metadata": {
    "tags": []
   },
   "source": [
    "Timing comparisions of Boolean expressions and query()"
   ]
  },
  {
   "cell_type": "code",
   "execution_count": null,
   "id": "192c747f-9a0a-420c-8c49-9f6b715ba864",
   "metadata": {
    "tags": []
   },
   "outputs": [],
   "source": [
    "%%timeit\n",
    "df[df.minimum_nights < 7]"
   ]
  },
  {
   "cell_type": "code",
   "execution_count": null,
   "id": "4d8789ce-4829-4fc8-98c8-5c5e12add66f",
   "metadata": {
    "tags": []
   },
   "outputs": [],
   "source": [
    "%%timeit\n",
    "df.query(\"minimum_nights < 7\")"
   ]
  },
  {
   "cell_type": "code",
   "execution_count": null,
   "id": "5de4d7d4-03f9-4770-ac7a-ed82504bc1b6",
   "metadata": {
    "tags": []
   },
   "outputs": [],
   "source": [
    "%%timeit\n",
    "df[((df.minimum_nights > 3) & (df.minimum_nights < 7)) & ((df.neighborhood == 'Williamsburg') | (df.neighborhood == 'Bushwick'))]"
   ]
  },
  {
   "cell_type": "code",
   "execution_count": null,
   "id": "2b69bc36-09c6-410f-adb0-9f793b417d1f",
   "metadata": {
    "tags": []
   },
   "outputs": [],
   "source": [
    "%%timeit\n",
    "df.query(\"(minimum_nights > 3 and minimum_nights < 7) and (neighborhood == 'Williamsburg' or neighborhood == 'Bushwick')\")"
   ]
  }
 ],
 "metadata": {
  "kernelspec": {
   "display_name": "Python 3 (ipykernel)",
   "language": "python",
   "name": "python3"
  },
  "language_info": {
   "codemirror_mode": {
    "name": "ipython",
    "version": 3
   },
   "file_extension": ".py",
   "mimetype": "text/x-python",
   "name": "python",
   "nbconvert_exporter": "python",
   "pygments_lexer": "ipython3",
   "version": "3.11.7"
  }
 },
 "nbformat": 4,
 "nbformat_minor": 5
}
