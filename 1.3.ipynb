{
 "cells": [
  {
   "cell_type": "markdown",
   "id": "0f7123b2-0abc-4932-8b82-a12a767256ce",
   "metadata": {},
   "source": [
    "## Splitting a DataFrame into multiple files"
   ]
  },
  {
   "cell_type": "markdown",
   "id": "2740dd1b-add6-492d-ba52-c9297dce6e5a",
   "metadata": {},
   "source": [
    "split by file count"
   ]
  },
  {
   "cell_type": "code",
   "execution_count": 183,
   "id": "90bfd5fd-0f4b-4f5b-a129-edf63965e0f1",
   "metadata": {},
   "outputs": [],
   "source": [
    "import pandas as pd\n",
    "import math\n",
    "\n",
    "def split_dataframe(df, file_prefix, file_count, start=1):\n",
    "    row_count = math.ceil(len(df) / file_count)\n",
    "\n",
    "    for n, i in enumerate(range(0, len(df), row_count), start=start):\n",
    "        split_df = df[i:i + row_count] \n",
    "        filename = f'{file_prefix}_{n}.feather'\n",
    "        split_df.to_feather(filename)\n",
    "        \n",
    "df = pd.read_feather('hh.feather')\n",
    "split_dataframe(df, 'hh_split', 5)"
   ]
  },
  {
   "cell_type": "markdown",
   "id": "e8595de0-ecb2-4dc6-96e2-ddb2c0aa1948",
   "metadata": {},
   "source": [
    "split by row count"
   ]
  },
  {
   "cell_type": "code",
   "execution_count": 23,
   "id": "13541656-782e-46b0-8ce8-06b34ea9efbc",
   "metadata": {},
   "outputs": [],
   "source": [
    "import pandas as pd\n",
    "import math\n",
    "\n",
    "def split_dataframe_by_row_count(df, file_prefix, row_count, start=1):\n",
    "    count = math.ceil(len(df) / row_count)\n",
    "    \n",
    "    for n, i in enumerate(range(0, count), start=start):\n",
    "        split_df = df[i * row_count:(i + 1) * row_count] \n",
    "        filename = f'{file_prefix}_{n}.feather'\n",
    "        split_df.to_feather(filename)\n",
    "        \n",
    "df = pd.read_feather('hh.feather')\n",
    "split_dataframe_by_row_count(df, 'hh_rows', 1_000_000)"
   ]
  },
  {
   "cell_type": "markdown",
   "id": "05a5323c-b91d-41d9-821c-d1361b925b57",
   "metadata": {},
   "source": [
    "## Joining multiple files into one DataFrame"
   ]
  },
  {
   "cell_type": "code",
   "execution_count": 187,
   "id": "fa11ddc9-c4c7-4f8f-b375-9bbff279292a",
   "metadata": {
    "scrolled": true
   },
   "outputs": [],
   "source": [
    "from pathlib import Path\n",
    "\n",
    "def join_files(file_prefix):\n",
    "    n = 1\n",
    "    dfs = []\n",
    "    \n",
    "    while (file := Path(f'{file_prefix}_{n}.feather')).exists():\n",
    "        dfs.append(pd.read_feather(file))\n",
    "        n += 1\n",
    "    \n",
    "    return pd.concat(dfs, ignore_index=True)\n",
    "\n",
    "ndf = join_files('hh_split')\n"
   ]
  },
  {
   "cell_type": "markdown",
   "id": "daf9a683-9f32-479e-9f4b-fc77af506ebf",
   "metadata": {},
   "source": [
    "compare with original"
   ]
  },
  {
   "cell_type": "code",
   "execution_count": 188,
   "id": "fde8ebb5-a131-4066-8fb5-873a3078ab00",
   "metadata": {},
   "outputs": [
    {
     "data": {
      "text/plain": [
       "(2075259, 2075259)"
      ]
     },
     "execution_count": 188,
     "metadata": {},
     "output_type": "execute_result"
    }
   ],
   "source": [
    "len(ndf), len(df)"
   ]
  },
  {
   "cell_type": "code",
   "execution_count": 189,
   "id": "c7ed11ec-49ed-44d2-85c0-1c6e20b04763",
   "metadata": {},
   "outputs": [
    {
     "name": "stdout",
     "output_type": "stream",
     "text": [
      "<class 'pandas.core.frame.DataFrame'>\n",
      "RangeIndex: 2075259 entries, 0 to 2075258\n",
      "Data columns (total 9 columns):\n",
      " #   Column                 Dtype  \n",
      "---  ------                 -----  \n",
      " 0   Date                   object \n",
      " 1   Time                   object \n",
      " 2   Global_active_power    float64\n",
      " 3   Global_reactive_power  float64\n",
      " 4   Voltage                float64\n",
      " 5   Global_intensity       float64\n",
      " 6   Sub_metering_1         float64\n",
      " 7   Sub_metering_2         float64\n",
      " 8   Sub_metering_3         float64\n",
      "dtypes: float64(7), object(2)\n",
      "memory usage: 142.5+ MB\n"
     ]
    }
   ],
   "source": [
    "df.info()"
   ]
  },
  {
   "cell_type": "code",
   "execution_count": 190,
   "id": "3eb981f1-b1fa-4dd3-8a4e-12313b6ed835",
   "metadata": {},
   "outputs": [
    {
     "name": "stdout",
     "output_type": "stream",
     "text": [
      "<class 'pandas.core.frame.DataFrame'>\n",
      "RangeIndex: 2075259 entries, 0 to 2075258\n",
      "Data columns (total 9 columns):\n",
      " #   Column                 Dtype  \n",
      "---  ------                 -----  \n",
      " 0   Date                   object \n",
      " 1   Time                   object \n",
      " 2   Global_active_power    float64\n",
      " 3   Global_reactive_power  float64\n",
      " 4   Voltage                float64\n",
      " 5   Global_intensity       float64\n",
      " 6   Sub_metering_1         float64\n",
      " 7   Sub_metering_2         float64\n",
      " 8   Sub_metering_3         float64\n",
      "dtypes: float64(7), object(2)\n",
      "memory usage: 142.5+ MB\n"
     ]
    }
   ],
   "source": [
    "ndf.info()"
   ]
  },
  {
   "cell_type": "code",
   "execution_count": 191,
   "id": "501fdae7-ae0c-4230-9683-258cc6afa241",
   "metadata": {},
   "outputs": [
    {
     "data": {
      "text/html": [
       "<div>\n",
       "<style scoped>\n",
       "    .dataframe tbody tr th:only-of-type {\n",
       "        vertical-align: middle;\n",
       "    }\n",
       "\n",
       "    .dataframe tbody tr th {\n",
       "        vertical-align: top;\n",
       "    }\n",
       "\n",
       "    .dataframe thead tr th {\n",
       "        text-align: left;\n",
       "    }\n",
       "</style>\n",
       "<table border=\"1\" class=\"dataframe\">\n",
       "  <thead>\n",
       "  </thead>\n",
       "  <tbody>\n",
       "  </tbody>\n",
       "</table>\n",
       "</div>"
      ],
      "text/plain": [
       "Empty DataFrame\n",
       "Columns: []\n",
       "Index: []"
      ]
     },
     "execution_count": 191,
     "metadata": {},
     "output_type": "execute_result"
    }
   ],
   "source": [
    "ndf.compare(df)"
   ]
  },
  {
   "cell_type": "markdown",
   "id": "16684b5b-03fd-489d-9ab3-d2f7e362b63a",
   "metadata": {},
   "source": [
    "## reading CSV by chunks"
   ]
  },
  {
   "cell_type": "code",
   "execution_count": 192,
   "id": "fcee8244-5a06-48ff-af6e-49f40804144d",
   "metadata": {},
   "outputs": [
    {
     "name": "stdout",
     "output_type": "stream",
     "text": [
      "Number of chunks: 21\n",
      "Total rows: 2,075,259\n"
     ]
    }
   ],
   "source": [
    "import pandas as pd\n",
    "\n",
    "rows = 100_000\n",
    "chunks = []\n",
    "\n",
    "filename = 'household_power_consumption.csv'\n",
    "for chunk in pd.read_csv(filename, chunksize=rows):\n",
    "    # add operations here\n",
    "    \n",
    "    chunks.append(chunk)\n",
    "\n",
    "print(f'Number of chunks: {len(chunks)}')\n",
    "df = pd.concat(chunks, ignore_index=True)\n",
    "\n",
    "print(f'Total rows: {len(df):,}')"
   ]
  },
  {
   "cell_type": "markdown",
   "id": "81d7092d-50e3-4333-a3de-11ec3f5e08eb",
   "metadata": {},
   "source": []
  }
 ],
 "metadata": {
  "kernelspec": {
   "display_name": "Python 3 (ipykernel)",
   "language": "python",
   "name": "python3"
  },
  "language_info": {
   "codemirror_mode": {
    "name": "ipython",
    "version": 3
   },
   "file_extension": ".py",
   "mimetype": "text/x-python",
   "name": "python",
   "nbconvert_exporter": "python",
   "pygments_lexer": "ipython3",
   "version": "3.11.7"
  }
 },
 "nbformat": 4,
 "nbformat_minor": 5
}
