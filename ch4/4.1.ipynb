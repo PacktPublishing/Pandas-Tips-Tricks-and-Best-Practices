{
 "cells": [
  {
   "cell_type": "code",
   "execution_count": 5,
   "id": "afd72281-524c-4fdc-b04d-709d8aded91f",
   "metadata": {},
   "outputs": [
    {
     "name": "stdout",
     "output_type": "stream",
     "text": [
      "<class 'pandas.core.frame.DataFrame'>\n",
      "RangeIndex: 48842 entries, 0 to 48841\n",
      "Data columns (total 15 columns):\n",
      " #   Column           Non-Null Count  Dtype \n",
      "---  ------           --------------  ----- \n",
      " 0   age              48842 non-null  int64 \n",
      " 1   workclass        48842 non-null  object\n",
      " 2   fnlwgt           48842 non-null  int64 \n",
      " 3   education        48842 non-null  object\n",
      " 4   educational-num  48842 non-null  int64 \n",
      " 5   marital-status   48842 non-null  object\n",
      " 6   occupation       48842 non-null  object\n",
      " 7   relationship     48842 non-null  object\n",
      " 8   race             48842 non-null  object\n",
      " 9   gender           48842 non-null  object\n",
      " 10  capital-gain     48842 non-null  int64 \n",
      " 11  capital-loss     48842 non-null  int64 \n",
      " 12  hours-per-week   48842 non-null  int64 \n",
      " 13  native-country   48842 non-null  object\n",
      " 14  income           48842 non-null  object\n",
      "dtypes: int64(6), object(9)\n",
      "memory usage: 5.6+ MB\n"
     ]
    }
   ],
   "source": [
    "import pandas as pd\n",
    "\n",
    "df = pd.read_csv('adult_income.csv')\n",
    "df.info()"
   ]
  },
  {
   "cell_type": "markdown",
   "id": "c5d6ccb1-efb8-410e-a79c-ba1ee46e657f",
   "metadata": {
    "tags": []
   },
   "source": [
    "Get memory usage by column (shallow)"
   ]
  },
  {
   "cell_type": "code",
   "execution_count": 16,
   "id": "d8809fee-3fec-4ba9-a792-63e583d9bc29",
   "metadata": {},
   "outputs": [
    {
     "data": {
      "text/plain": [
       "Index                 132\n",
       "age                390736\n",
       "workclass          390736\n",
       "fnlwgt             390736\n",
       "education          390736\n",
       "educational-num    390736\n",
       "marital-status     390736\n",
       "occupation         390736\n",
       "relationship       390736\n",
       "race               390736\n",
       "gender             390736\n",
       "capital-gain       390736\n",
       "capital-loss       390736\n",
       "hours-per-week     390736\n",
       "native-country     390736\n",
       "income             390736\n",
       "dtype: int64"
      ]
     },
     "execution_count": 16,
     "metadata": {},
     "output_type": "execute_result"
    }
   ],
   "source": [
    "df.memory_usage(deep=False)"
   ]
  },
  {
   "cell_type": "code",
   "execution_count": 18,
   "id": "b90ff43e-8a44-40bd-85c6-1d494c5d61a9",
   "metadata": {
    "tags": []
   },
   "outputs": [
    {
     "data": {
      "text/plain": [
       "Index                 132\n",
       "age                390736\n",
       "workclass          390736\n",
       "fnlwgt             390736\n",
       "education          390736\n",
       "educational-num    390736\n",
       "marital-status     390736\n",
       "occupation         390736\n",
       "relationship       390736\n",
       "race               390736\n",
       "gender             390736\n",
       "capital-gain       390736\n",
       "capital-loss       390736\n",
       "hours-per-week     390736\n",
       "native-country     390736\n",
       "income             390736\n",
       "dtype: int64"
      ]
     },
     "execution_count": 18,
     "metadata": {},
     "output_type": "execute_result"
    }
   ],
   "source": [
    "df.memory_usage()"
   ]
  },
  {
   "cell_type": "markdown",
   "id": "95cf3896-fad2-4e2b-b8e3-fbe766cdb009",
   "metadata": {
    "tags": []
   },
   "source": [
    "Get deep memory usage by column"
   ]
  },
  {
   "cell_type": "code",
   "execution_count": 21,
   "id": "a4a40b91-7b4a-4a1e-b6b9-34ae87d81f6d",
   "metadata": {},
   "outputs": [
    {
     "data": {
      "text/plain": [
       "Index                  132\n",
       "age                 390736\n",
       "workclass          3168423\n",
       "fnlwgt              390736\n",
       "education          3195345\n",
       "educational-num     390736\n",
       "marital-status     3487614\n",
       "occupation         3379231\n",
       "relationship       3230347\n",
       "race               3054061\n",
       "gender             3011746\n",
       "capital-gain        390736\n",
       "capital-loss        390736\n",
       "hours-per-week      390736\n",
       "native-country     3385085\n",
       "income             3016517\n",
       "dtype: int64"
      ]
     },
     "execution_count": 21,
     "metadata": {},
     "output_type": "execute_result"
    }
   ],
   "source": [
    "df.memory_usage(deep=True) "
   ]
  },
  {
   "cell_type": "markdown",
   "id": "e5b37a3c-ca1a-4026-bfcf-6b766f958266",
   "metadata": {
    "tags": []
   },
   "source": [
    "Get total memory usage (shallow)"
   ]
  },
  {
   "cell_type": "code",
   "execution_count": 31,
   "id": "53cf3186-da0b-4b58-9b84-d2c3f58c198b",
   "metadata": {
    "tags": []
   },
   "outputs": [
    {
     "data": {
      "text/plain": [
       "5861172"
      ]
     },
     "execution_count": 31,
     "metadata": {},
     "output_type": "execute_result"
    }
   ],
   "source": [
    "df.memory_usage().sum()"
   ]
  },
  {
   "cell_type": "markdown",
   "id": "a87c7a7d-f4ac-4883-a654-0fa35a014d1a",
   "metadata": {
    "tags": []
   },
   "source": [
    "Get total memory usage (deep)"
   ]
  },
  {
   "cell_type": "code",
   "execution_count": 34,
   "id": "ab256320-7419-47f3-ae5a-435740f8c670",
   "metadata": {
    "tags": []
   },
   "outputs": [
    {
     "data": {
      "text/plain": [
       "31272917"
      ]
     },
     "execution_count": 34,
     "metadata": {},
     "output_type": "execute_result"
    }
   ],
   "source": [
    "df.memory_usage(deep=True).sum()"
   ]
  },
  {
   "cell_type": "markdown",
   "id": "bf2a09b1-9aec-41fe-89b9-8005698ce41f",
   "metadata": {
    "tags": []
   },
   "source": [
    "Get deep memory usage of the index"
   ]
  },
  {
   "cell_type": "code",
   "execution_count": 26,
   "id": "6a9706f7-2b59-4f48-aca9-20470b56b0ec",
   "metadata": {
    "tags": []
   },
   "outputs": [
    {
     "data": {
      "text/plain": [
       "132"
      ]
     },
     "execution_count": 26,
     "metadata": {},
     "output_type": "execute_result"
    }
   ],
   "source": [
    "df.index.memory_usage(deep=True)"
   ]
  },
  {
   "cell_type": "code",
   "execution_count": null,
   "id": "c1e5f24c-6b9c-45b8-8d61-bc59d092a141",
   "metadata": {},
   "outputs": [],
   "source": []
  }
 ],
 "metadata": {
  "kernelspec": {
   "display_name": "Python 3 (ipykernel)",
   "language": "python",
   "name": "python3"
  },
  "language_info": {
   "codemirror_mode": {
    "name": "ipython",
    "version": 3
   },
   "file_extension": ".py",
   "mimetype": "text/x-python",
   "name": "python",
   "nbconvert_exporter": "python",
   "pygments_lexer": "ipython3",
   "version": "3.11.7"
  }
 },
 "nbformat": 4,
 "nbformat_minor": 5
}
