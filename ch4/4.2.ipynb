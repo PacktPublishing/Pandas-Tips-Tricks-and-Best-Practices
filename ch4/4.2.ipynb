{
 "cells": [
  {
   "cell_type": "markdown",
   "id": "ea33c6a9-3241-466b-83e2-f8249d054adc",
   "metadata": {},
   "source": [
    "dropping columns"
   ]
  },
  {
   "cell_type": "code",
   "execution_count": 9,
   "id": "d031b37e-b7cf-4cc8-9783-d2543d844c3d",
   "metadata": {
    "tags": []
   },
   "outputs": [
    {
     "name": "stdout",
     "output_type": "stream",
     "text": [
      "31272917 27887832\n"
     ]
    }
   ],
   "source": [
    "import pandas as pd\n",
    "df = pd.read_csv(\"adult_income.csv\")\n",
    "original = df.memory_usage(deep=True).sum()\n",
    "df = df.drop(columns='native-country')\n",
    "current = df.memory_usage(deep=True).sum()\n",
    "print(original, current)"
   ]
  },
  {
   "cell_type": "markdown",
   "id": "8e10564e-736d-49a4-8a5d-457033b37d3e",
   "metadata": {},
   "source": [
    "downcasting data loss example"
   ]
  },
  {
   "cell_type": "code",
   "execution_count": 12,
   "id": "29b25490-dc91-4f27-8a52-f4f6ae8b36a0",
   "metadata": {
    "tags": []
   },
   "outputs": [
    {
     "data": {
      "text/plain": [
       "[1000, 900, 800, 700, 600, 500, 400, 300, 200, 100]"
      ]
     },
     "execution_count": 12,
     "metadata": {},
     "output_type": "execute_result"
    }
   ],
   "source": [
    "import pandas as pd\n",
    "import numpy as np\n",
    "\n",
    "df = pd.DataFrame()\n",
    "df['counts'] = np.arange(1000, 0, -100)\n",
    "df.counts.to_list()\n"
   ]
  },
  {
   "cell_type": "code",
   "execution_count": 14,
   "id": "8791999e-76d3-484d-b403-a9cee63d8a22",
   "metadata": {
    "tags": []
   },
   "outputs": [],
   "source": [
    "df['counts'] = df['counts'].astype('int8')"
   ]
  },
  {
   "cell_type": "markdown",
   "id": "57c0af11-0fb1-4a9e-930e-51d158dc9ece",
   "metadata": {},
   "source": [
    "values are changed without any warnings"
   ]
  },
  {
   "cell_type": "code",
   "execution_count": 17,
   "id": "9e11a637-a926-4c2d-be10-ee5c20c94048",
   "metadata": {
    "tags": []
   },
   "outputs": [
    {
     "data": {
      "text/plain": [
       "[-24, -124, 32, -68, 88, -12, -112, 44, -56, 100]"
      ]
     },
     "execution_count": 17,
     "metadata": {},
     "output_type": "execute_result"
    }
   ],
   "source": [
    "df.counts.to_list()"
   ]
  },
  {
   "cell_type": "markdown",
   "id": "1b1e5e8e-752c-4d1e-a88f-d49c7b1767ac",
   "metadata": {},
   "source": [
    "A proper way to set value types"
   ]
  },
  {
   "cell_type": "code",
   "execution_count": 21,
   "id": "a96bb288-5cce-41d7-b6fc-4e9e3259de87",
   "metadata": {
    "tags": []
   },
   "outputs": [
    {
     "data": {
      "text/plain": [
       "[1000, 900, 800, 700, 600, 500, 400, 300, 200, 100]"
      ]
     },
     "execution_count": 21,
     "metadata": {},
     "output_type": "execute_result"
    }
   ],
   "source": [
    "df['counts'] = np.arange(1000, 0, -100, dtype=np.int16)\n",
    "df.counts.to_list()"
   ]
  },
  {
   "cell_type": "markdown",
   "id": "965de495-8f63-4120-890e-f5c6fc57eccc",
   "metadata": {},
   "source": [
    "will result in a warning if data type size is too small to accomodate the values"
   ]
  },
  {
   "cell_type": "code",
   "execution_count": 23,
   "id": "77f303b6-5b73-45fc-b2aa-8366a142827f",
   "metadata": {
    "tags": []
   },
   "outputs": [
    {
     "name": "stderr",
     "output_type": "stream",
     "text": [
      "/var/folders/1l/8dzx8sdx5_d8t3q40bczp2k00000gn/T/ipykernel_12414/1827926369.py:1: DeprecationWarning: NumPy will stop allowing conversion of out-of-bound Python integers to integer arrays.  The conversion of 1000 to int8 will fail in the future.\n",
      "For the old behavior, usually:\n",
      "    np.array(value).astype(dtype)\n",
      "will give the desired result (the cast overflows).\n",
      "  df['counts'] = np.arange(1000, 0, -100, dtype=np.int8)\n",
      "/var/folders/1l/8dzx8sdx5_d8t3q40bczp2k00000gn/T/ipykernel_12414/1827926369.py:1: DeprecationWarning: NumPy will stop allowing conversion of out-of-bound Python integers to integer arrays.  The conversion of 900 to int8 will fail in the future.\n",
      "For the old behavior, usually:\n",
      "    np.array(value).astype(dtype)\n",
      "will give the desired result (the cast overflows).\n",
      "  df['counts'] = np.arange(1000, 0, -100, dtype=np.int8)\n"
     ]
    }
   ],
   "source": [
    "df['counts'] = np.arange(1000, 0, -100, dtype=np.int8)\n"
   ]
  },
  {
   "cell_type": "markdown",
   "id": "e3547079-2759-487a-8140-00aea9c954b3",
   "metadata": {},
   "source": [
    "automatic downcasting function"
   ]
  },
  {
   "cell_type": "code",
   "execution_count": 94,
   "id": "de1a6687-eb26-41d3-a0c4-1a0fa63d3749",
   "metadata": {
    "tags": []
   },
   "outputs": [
    {
     "name": "stdout",
     "output_type": "stream",
     "text": [
      "<class 'pandas.core.frame.DataFrame'>\n",
      "RangeIndex: 48842 entries, 0 to 48841\n",
      "Data columns (total 15 columns):\n",
      " #   Column           Non-Null Count  Dtype \n",
      "---  ------           --------------  ----- \n",
      " 0   age              48842 non-null  int64 \n",
      " 1   workclass        48842 non-null  object\n",
      " 2   fnlwgt           48842 non-null  int64 \n",
      " 3   education        48842 non-null  object\n",
      " 4   educational-num  48842 non-null  int64 \n",
      " 5   marital-status   48842 non-null  object\n",
      " 6   occupation       48842 non-null  object\n",
      " 7   relationship     48842 non-null  object\n",
      " 8   race             48842 non-null  object\n",
      " 9   gender           48842 non-null  object\n",
      " 10  capital-gain     48842 non-null  int64 \n",
      " 11  capital-loss     48842 non-null  int64 \n",
      " 12  hours-per-week   48842 non-null  int64 \n",
      " 13  native-country   48842 non-null  object\n",
      " 14  income           48842 non-null  object\n",
      "dtypes: int64(6), object(9)\n",
      "memory usage: 5.6+ MB\n"
     ]
    }
   ],
   "source": [
    "df = pd.read_csv(\"adult_income.csv\")\n",
    "df.info()"
   ]
  },
  {
   "cell_type": "markdown",
   "id": "1e626754-4609-4912-a358-cf39f95ca676",
   "metadata": {},
   "source": [
    "get total memory usage"
   ]
  },
  {
   "cell_type": "code",
   "execution_count": 97,
   "id": "f9e9de63-aea1-433d-aad6-d81fccc8fce1",
   "metadata": {
    "tags": []
   },
   "outputs": [
    {
     "data": {
      "text/plain": [
       "31272917"
      ]
     },
     "execution_count": 97,
     "metadata": {},
     "output_type": "execute_result"
    }
   ],
   "source": [
    "df.memory_usage(deep=True).sum()"
   ]
  },
  {
   "cell_type": "markdown",
   "id": "ffbe5d9b-2d12-4f43-9db7-b27afb78726b",
   "metadata": {},
   "source": [
    "get total memory usage for affected columns (will be changed later)"
   ]
  },
  {
   "cell_type": "code",
   "execution_count": 100,
   "id": "bb7d4a53-8c06-456b-80ed-bc47ce7688dc",
   "metadata": {
    "tags": []
   },
   "outputs": [
    {
     "data": {
      "text/plain": [
       "2344548"
      ]
     },
     "execution_count": 100,
     "metadata": {},
     "output_type": "execute_result"
    }
   ],
   "source": [
    "df[['age', 'fnlwgt', 'educational-num', 'capital-gain', 'capital-loss', 'hours-per-week']].memory_usage().sum()"
   ]
  },
  {
   "cell_type": "markdown",
   "id": "f94ef007-a09d-4641-b451-eb3218524f6a",
   "metadata": {},
   "source": [
    "downcast_numeric function definition"
   ]
  },
  {
   "cell_type": "code",
   "execution_count": 106,
   "id": "4d490732-e32d-4546-b956-939dc6daccfa",
   "metadata": {
    "tags": []
   },
   "outputs": [],
   "source": [
    "def downcast_numeric(df, use_unsigned=True):\n",
    "    ints = [col for col in df.columns if pd.api.types.is_integer_dtype(df[col])]\n",
    "    signed = [col for col in ints if (df[col] < 0).any()]\n",
    "    unsigned = [col for col in ints if (df[col]>= 0).any()]\n",
    "\n",
    "    floats = [col for col in df.columns if pd.api.types.is_float_dtype(df[col])]\n",
    "\n",
    "    if use_unsigned:\n",
    "        df[signed] = df[signed].apply(pd.to_numeric, downcast='integer')\n",
    "        df[unsigned] = df[unsigned].apply(pd.to_numeric, downcast='unsigned')\n",
    "    else:\n",
    "        df[ints] = df[ints].apply(pd.to_numeric, downcast='integer')\n",
    "\n",
    "    df[floats] = df[floats].apply(pd.to_numeric, downcast='float')"
   ]
  },
  {
   "cell_type": "code",
   "execution_count": 108,
   "id": "dbdd21b3-e22e-42e9-a709-4fb68091d1e6",
   "metadata": {
    "tags": []
   },
   "outputs": [
    {
     "name": "stdout",
     "output_type": "stream",
     "text": [
      "<class 'pandas.core.frame.DataFrame'>\n",
      "RangeIndex: 48842 entries, 0 to 48841\n",
      "Data columns (total 15 columns):\n",
      " #   Column           Non-Null Count  Dtype \n",
      "---  ------           --------------  ----- \n",
      " 0   age              48842 non-null  int8  \n",
      " 1   workclass        48842 non-null  object\n",
      " 2   fnlwgt           48842 non-null  int32 \n",
      " 3   education        48842 non-null  object\n",
      " 4   educational-num  48842 non-null  int8  \n",
      " 5   marital-status   48842 non-null  object\n",
      " 6   occupation       48842 non-null  object\n",
      " 7   relationship     48842 non-null  object\n",
      " 8   race             48842 non-null  object\n",
      " 9   gender           48842 non-null  object\n",
      " 10  capital-gain     48842 non-null  int32 \n",
      " 11  capital-loss     48842 non-null  int16 \n",
      " 12  hours-per-week   48842 non-null  int8  \n",
      " 13  native-country   48842 non-null  object\n",
      " 14  income           48842 non-null  object\n",
      "dtypes: int16(1), int32(2), int8(3), object(9)\n",
      "memory usage: 4.0+ MB\n",
      "None\n"
     ]
    }
   ],
   "source": [
    "downcast_numeric(df, use_unsigned=False)\n",
    "df.info()"
   ]
  },
  {
   "cell_type": "markdown",
   "id": "dc088af3-5091-47b2-ba9f-85384bd621a2",
   "metadata": {},
   "source": [
    "Total usage"
   ]
  },
  {
   "cell_type": "code",
   "execution_count": 111,
   "id": "1e78ccd2-49cf-4f21-a19f-51212ff82089",
   "metadata": {
    "tags": []
   },
   "outputs": [
    {
     "name": "stdout",
     "output_type": "stream",
     "text": [
      "29563447\n"
     ]
    }
   ],
   "source": [
    "print(df.memory_usage(deep=True).sum())"
   ]
  },
  {
   "cell_type": "markdown",
   "id": "b5eb6eaa-5120-4139-a679-425ff8490a07",
   "metadata": {
    "tags": []
   },
   "source": [
    "get total memory usage for affected columns only"
   ]
  },
  {
   "cell_type": "code",
   "execution_count": 118,
   "id": "8ec35346-006e-4d37-ac2b-15d68b30fba0",
   "metadata": {
    "tags": []
   },
   "outputs": [
    {
     "name": "stdout",
     "output_type": "stream",
     "text": [
      "635078\n"
     ]
    }
   ],
   "source": [
    "print(df[['age', 'fnlwgt', 'educational-num', 'capital-gain', 'capital-loss', 'hours-per-week']].memory_usage().sum())"
   ]
  },
  {
   "cell_type": "code",
   "execution_count": null,
   "id": "fe5a3d81-a535-4ca5-bd30-4b0da6623590",
   "metadata": {},
   "outputs": [],
   "source": []
  }
 ],
 "metadata": {
  "kernelspec": {
   "display_name": "Python 3 (ipykernel)",
   "language": "python",
   "name": "python3"
  },
  "language_info": {
   "codemirror_mode": {
    "name": "ipython",
    "version": 3
   },
   "file_extension": ".py",
   "mimetype": "text/x-python",
   "name": "python",
   "nbconvert_exporter": "python",
   "pygments_lexer": "ipython3",
   "version": "3.12.1"
  }
 },
 "nbformat": 4,
 "nbformat_minor": 5
}
