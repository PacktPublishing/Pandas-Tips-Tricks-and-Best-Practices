{
 "cells": [
  {
   "cell_type": "markdown",
   "id": "2dea9e5e-9ce4-4402-ba17-8daeb01c7436",
   "metadata": {},
   "source": [
    "clean_column_names function definition"
   ]
  },
  {
   "cell_type": "code",
   "execution_count": 83,
   "id": "cabc226c-044b-4efc-9d87-1be537a8d969",
   "metadata": {
    "tags": []
   },
   "outputs": [],
   "source": [
    "import pandas as pd\n",
    "import re\n",
    "\n",
    "def clean_column(name):\n",
    "    name = name.lower().strip()\n",
    "    name = re.sub(r'[\\W+ ]', '_', name)\n",
    "    return name\n",
    "\n",
    "def clean_column_names(df):\n",
    "    df.columns = [clean_column(col) for col in df.columns]\n",
    "    return df\n",
    "\n"
   ]
  },
  {
   "cell_type": "markdown",
   "id": "77fa1653-5a3e-490c-b807-f9338e6ce720",
   "metadata": {},
   "source": [
    "load original dataset"
   ]
  },
  {
   "cell_type": "code",
   "execution_count": 86,
   "id": "baddf7f0-e110-46eb-b723-0299edcc4930",
   "metadata": {
    "tags": []
   },
   "outputs": [
    {
     "name": "stdout",
     "output_type": "stream",
     "text": [
      "Index(['id', 'NAME', 'host id', 'host_identity_verified', 'host name',\n",
      "       'neighbourhood group', 'neighbourhood', 'lat', 'long', 'country',\n",
      "       'country code', 'instant_bookable', 'cancellation_policy', 'room type',\n",
      "       'Construction year', 'price', 'service fee', 'minimum nights',\n",
      "       'number of reviews', 'last review', 'reviews per month',\n",
      "       'review rate number', 'calculated host listings count',\n",
      "       'availability 365', 'house_rules', 'license'],\n",
      "      dtype='object')\n"
     ]
    },
    {
     "name": "stderr",
     "output_type": "stream",
     "text": [
      "/var/folders/1l/8dzx8sdx5_d8t3q40bczp2k00000gn/T/ipykernel_8218/1559336744.py:1: DtypeWarning: Columns (25) have mixed types. Specify dtype option on import or set low_memory=False.\n",
      "  df = pd.read_csv('Airbnb_Open_Data.csv')\n"
     ]
    }
   ],
   "source": [
    "df = pd.read_csv('Airbnb_Open_Data.csv')\n",
    "print(df.columns)"
   ]
  },
  {
   "cell_type": "markdown",
   "id": "a2e9d3da-619e-49ac-9f09-e1d1ba42ddd8",
   "metadata": {},
   "source": [
    "additional name cleaning/renaming"
   ]
  },
  {
   "cell_type": "code",
   "execution_count": 89,
   "id": "163ca05d-76ac-4c2d-9433-51ee29851ed2",
   "metadata": {
    "tags": []
   },
   "outputs": [],
   "source": [
    "df = df.rename(columns={'neighbourhood group': 'neighborhood group', 'neighbourhood': 'neighborhood', 'long': 'longitude', 'lat': 'latitude'})"
   ]
  },
  {
   "cell_type": "markdown",
   "id": "6a257e42-f04a-4b24-9e19-4971cb1b3ccc",
   "metadata": {},
   "source": [
    "drop the license column since it is not relevant for our analyis"
   ]
  },
  {
   "cell_type": "code",
   "execution_count": 92,
   "id": "35cb1e1d-81af-4d8b-80a8-08712d117b62",
   "metadata": {
    "tags": []
   },
   "outputs": [],
   "source": [
    "df = df.drop(columns='license')"
   ]
  },
  {
   "cell_type": "markdown",
   "id": "970d16e4-4a82-4f63-bcda-95ccf54879e3",
   "metadata": {},
   "source": [
    "calling clean_column_names on the DataFrame"
   ]
  },
  {
   "cell_type": "code",
   "execution_count": 95,
   "id": "26bf5a94-0695-4895-a05f-948d06060e60",
   "metadata": {
    "tags": []
   },
   "outputs": [
    {
     "name": "stdout",
     "output_type": "stream",
     "text": [
      "Index(['id', 'name', 'host_id', 'host_identity_verified', 'host_name',\n",
      "       'neighborhood_group', 'neighborhood', 'latitude', 'longitude',\n",
      "       'country', 'country_code', 'instant_bookable', 'cancellation_policy',\n",
      "       'room_type', 'construction_year', 'price', 'service_fee',\n",
      "       'minimum_nights', 'number_of_reviews', 'last_review',\n",
      "       'reviews_per_month', 'review_rate_number',\n",
      "       'calculated_host_listings_count', 'availability_365', 'house_rules'],\n",
      "      dtype='object')\n"
     ]
    }
   ],
   "source": [
    "df = clean_column_names(df)\n",
    "print(df.columns)"
   ]
  },
  {
   "cell_type": "code",
   "execution_count": null,
   "id": "51e718e9-69a7-4c94-9b5a-8163b0956e13",
   "metadata": {},
   "outputs": [],
   "source": []
  }
 ],
 "metadata": {
  "kernelspec": {
   "display_name": "Python 3 (ipykernel)",
   "language": "python",
   "name": "python3"
  },
  "language_info": {
   "codemirror_mode": {
    "name": "ipython",
    "version": 3
   },
   "file_extension": ".py",
   "mimetype": "text/x-python",
   "name": "python",
   "nbconvert_exporter": "python",
   "pygments_lexer": "ipython3",
   "version": "3.12.1"
  }
 },
 "nbformat": 4,
 "nbformat_minor": 5
}
