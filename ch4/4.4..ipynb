{
 "cells": [
  {
   "cell_type": "markdown",
   "id": "fcf8690b-95e5-4165-b911-49481596f35c",
   "metadata": {},
   "source": [
    "conda install"
   ]
  },
  {
   "cell_type": "code",
   "execution_count": null,
   "id": "ea6fef24-ebaa-4941-8c44-4207b903c3e9",
   "metadata": {},
   "outputs": [],
   "source": [
    "conda install -c conda-forge ydata-profiling"
   ]
  },
  {
   "cell_type": "markdown",
   "id": "ae74bd18-d9fa-4fd6-b013-fec7d46212d0",
   "metadata": {},
   "source": [
    "pip install"
   ]
  },
  {
   "cell_type": "code",
   "execution_count": null,
   "id": "f956552b-a852-400d-bc79-571dbc6dcf75",
   "metadata": {
    "tags": []
   },
   "outputs": [],
   "source": [
    "pip install ydata-profiling"
   ]
  },
  {
   "cell_type": "code",
   "execution_count": null,
   "id": "f218b7ae-1e58-4c01-86b5-acb756002382",
   "metadata": {},
   "outputs": [],
   "source": []
  },
  {
   "cell_type": "markdown",
   "id": "4025c1ea-e0fa-4fe2-9121-69f14382deed",
   "metadata": {},
   "source": [
    "Prepare the raw dataset for use in this section (these steps were done in the previous section) "
   ]
  },
  {
   "cell_type": "code",
   "execution_count": 5,
   "id": "dea3ddbf-4e91-4ee0-b44b-ef6464b6894b",
   "metadata": {
    "tags": []
   },
   "outputs": [
    {
     "name": "stderr",
     "output_type": "stream",
     "text": [
      "/var/folders/rg/5jqbxc2s00jgszr4s314nvd40000gn/T/ipykernel_49557/335055961.py:13: DtypeWarning: Columns (25) have mixed types. Specify dtype option on import or set low_memory=False.\n",
      "  df = pd.read_csv('Airbnb_Open_Data.csv')\n"
     ]
    }
   ],
   "source": [
    "import pandas as pd\n",
    "import re\n",
    "\n",
    "def clean_column(name):\n",
    "    name = name.lower().strip()\n",
    "    name = re.sub(r'[\\W+ ]', '_', name)\n",
    "    return name\n",
    "\n",
    "def clean_column_names(df):\n",
    "    df.columns = [clean_column(col) for col in df.columns]\n",
    "    return df\n",
    "\n",
    "df = pd.read_csv('Airbnb_Open_Data.csv')\n",
    "df = df.rename(columns={'neighbourhood group': 'neighborhood group', 'neighbourhood': 'neighborhood', 'long': 'longitude', 'lat': 'latitude'})\n",
    "df = clean_column_names(df)\n",
    "df.to_csv('Airbnb_Open_Data_cc.csv', index=False)"
   ]
  },
  {
   "cell_type": "markdown",
   "id": "58967f00-b75e-4169-86ef-a63b2ab797ec",
   "metadata": {},
   "source": [
    "Generate Airbnb Open Data Report"
   ]
  },
  {
   "cell_type": "code",
   "execution_count": null,
   "id": "fd33c6ed-8a93-49c4-b566-e696f1a06090",
   "metadata": {
    "tags": []
   },
   "outputs": [],
   "source": [
    "import pandas as pd\n",
    "from ydata_profiling import ProfileReport\n",
    "\n",
    "df = pd.read_csv('Airbnb_Open_Data_cc.csv')\n",
    "profile = ProfileReport(df, title=\"Airbnb Profile\")\n",
    "profile"
   ]
  },
  {
   "cell_type": "markdown",
   "id": "e1250dbe-fa1e-4822-899a-33951721d08a",
   "metadata": {},
   "source": [
    "Force Correlation Reports"
   ]
  },
  {
   "cell_type": "code",
   "execution_count": null,
   "id": "9abfe934-afcb-47c7-9b81-deb29efbb504",
   "metadata": {
    "tags": []
   },
   "outputs": [],
   "source": [
    "profile = ProfileReport(df, title=\"Airbnb Profile Report with Correlation\", explorative=True, correlations={ \"phi_k\": {\"calculate\": True} })\n",
    "profile"
   ]
  },
  {
   "cell_type": "markdown",
   "id": "1d9410d6-a638-4fd2-a38c-ccd3cc509b93",
   "metadata": {},
   "source": [
    "Handling large datasets - uses sampling and generates fewer reports"
   ]
  },
  {
   "cell_type": "code",
   "execution_count": null,
   "id": "94ccd1ab-bedf-4dd3-a84a-206b5f54d68e",
   "metadata": {},
   "outputs": [],
   "source": [
    "profile = ProfileReport(df.sample(100), title=\"Sampled Profile Report\", minimal=True)"
   ]
  },
  {
   "cell_type": "markdown",
   "id": "104f161c-da45-4ed5-a178-6949c7e5f85c",
   "metadata": {},
   "source": [
    "Saving to HTML"
   ]
  },
  {
   "cell_type": "code",
   "execution_count": null,
   "id": "5b0fe01f-d485-4033-945e-b7813187ab81",
   "metadata": {
    "tags": []
   },
   "outputs": [],
   "source": [
    "profile.to_file('airbnb_profile.html')"
   ]
  },
  {
   "cell_type": "code",
   "execution_count": null,
   "id": "d760f514-e5fe-46e0-a73b-fe470a1d6ee3",
   "metadata": {},
   "outputs": [],
   "source": []
  }
 ],
 "metadata": {
  "kernelspec": {
   "display_name": "Python 3 (ipykernel)",
   "language": "python",
   "name": "python3"
  },
  "language_info": {
   "codemirror_mode": {
    "name": "ipython",
    "version": 3
   },
   "file_extension": ".py",
   "mimetype": "text/x-python",
   "name": "python",
   "nbconvert_exporter": "python",
   "pygments_lexer": "ipython3",
   "version": "3.12.1"
  }
 },
 "nbformat": 4,
 "nbformat_minor": 5
}
