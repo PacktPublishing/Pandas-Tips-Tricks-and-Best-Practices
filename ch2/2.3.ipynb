{
 "cells": [
  {
   "cell_type": "code",
   "execution_count": 22,
   "id": "61ebd086-7d59-4641-a6d3-f7a8fd2c2da9",
   "metadata": {},
   "outputs": [],
   "source": [
    "import pandas as pd\n",
    "dfs = pd.read_html('html_table.html')\n"
   ]
  },
  {
   "cell_type": "code",
   "execution_count": 12,
   "id": "a5648ec8-53e1-4a76-9be2-c20174b21d11",
   "metadata": {},
   "outputs": [
    {
     "data": {
      "text/html": [
       "<div>\n",
       "<style scoped>\n",
       "    .dataframe tbody tr th:only-of-type {\n",
       "        vertical-align: middle;\n",
       "    }\n",
       "\n",
       "    .dataframe tbody tr th {\n",
       "        vertical-align: top;\n",
       "    }\n",
       "\n",
       "    .dataframe thead th {\n",
       "        text-align: right;\n",
       "    }\n",
       "</style>\n",
       "<table border=\"1\" class=\"dataframe\">\n",
       "  <thead>\n",
       "    <tr style=\"text-align: right;\">\n",
       "      <th></th>\n",
       "      <th>YEAR</th>\n",
       "      <th>PRESIDENT</th>\n",
       "      <th>FIRST LADY</th>\n",
       "      <th>VICE PRESIDENT</th>\n",
       "    </tr>\n",
       "  </thead>\n",
       "  <tbody>\n",
       "    <tr>\n",
       "      <th>0</th>\n",
       "      <td>1789-1797</td>\n",
       "      <td>George Washington</td>\n",
       "      <td>Martha Washington</td>\n",
       "      <td>John Adams</td>\n",
       "    </tr>\n",
       "    <tr>\n",
       "      <th>1</th>\n",
       "      <td>1797-1801</td>\n",
       "      <td>John Adams</td>\n",
       "      <td>Abigail Adams</td>\n",
       "      <td>Thomas Jefferson</td>\n",
       "    </tr>\n",
       "  </tbody>\n",
       "</table>\n",
       "</div>"
      ],
      "text/plain": [
       "        YEAR          PRESIDENT         FIRST LADY    VICE PRESIDENT\n",
       "0  1789-1797  George Washington  Martha Washington        John Adams\n",
       "1  1797-1801         John Adams      Abigail Adams  Thomas Jefferson"
      ]
     },
     "execution_count": 12,
     "metadata": {},
     "output_type": "execute_result"
    }
   ],
   "source": [
    "dfs[0]"
   ]
  },
  {
   "cell_type": "code",
   "execution_count": 20,
   "id": "7f7f2f9c-d751-44a5-966c-13ab6515ca30",
   "metadata": {},
   "outputs": [
    {
     "data": {
      "text/plain": [
       "9"
      ]
     },
     "execution_count": 20,
     "metadata": {},
     "output_type": "execute_result"
    }
   ],
   "source": [
    "import pandas as pd\n",
    "dfs = pd.read_html('us_presidents.html')\n",
    "len(dfs)"
   ]
  },
  {
   "cell_type": "code",
   "execution_count": 24,
   "id": "6fd2f0c9-6c24-4713-8091-855188a13acb",
   "metadata": {},
   "outputs": [
    {
     "data": {
      "text/plain": [
       "3"
      ]
     },
     "execution_count": 24,
     "metadata": {},
     "output_type": "execute_result"
    }
   ],
   "source": [
    "import pandas as pd\n",
    "key = 'George Washington'\n",
    "dfs = pd.read_html('us_presidents.html', match=key)\n",
    "len(dfs)"
   ]
  }
 ],
 "metadata": {
  "kernelspec": {
   "display_name": "Python 3 (ipykernel)",
   "language": "python",
   "name": "python3"
  },
  "language_info": {
   "codemirror_mode": {
    "name": "ipython",
    "version": 3
   },
   "file_extension": ".py",
   "mimetype": "text/x-python",
   "name": "python",
   "nbconvert_exporter": "python",
   "pygments_lexer": "ipython3",
   "version": "3.11.7"
  }
 },
 "nbformat": 4,
 "nbformat_minor": 5
}
