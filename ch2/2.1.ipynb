{
 "cells": [
  {
   "cell_type": "markdown",
   "id": "6b6be831-46d0-4e7e-8fb2-18f07d59a424",
   "metadata": {},
   "source": [
    "handling URL sources"
   ]
  },
  {
   "cell_type": "code",
   "execution_count": null,
   "id": "9608365d-add7-4649-bc74-35b3107f1f10",
   "metadata": {},
   "outputs": [],
   "source": [
    "import pandas as pd\n",
    "url = 'https://raw.githubusercontent.com/PacktPublishing/Pandas-Tips-Tricks-and-Best-Practices/main/nz-cpi-q3-2023.csv'\n",
    "df = pd.read_csv(url)\n",
    "df.info()"
   ]
  },
  {
   "cell_type": "markdown",
   "id": "4c48807c-e149-4deb-88a3-518219bfd794",
   "metadata": {},
   "source": [
    "local file to URL function"
   ]
  },
  {
   "cell_type": "code",
   "execution_count": null,
   "id": "a9dae7c9-3949-4ff6-a8dd-2cdbe1555edc",
   "metadata": {},
   "outputs": [],
   "source": [
    "import pathlib\n",
    "\n",
    "def to_file_url(file_path):\n",
    "    file_url = pathlib.Path(file_path).resolve().as_uri()\n",
    "    return file_url\n",
    "print(to_file_url('countries.csv'))\n"
   ]
  },
  {
   "cell_type": "markdown",
   "id": "edb8b9a0-8dc8-470a-bfbb-dba288e232b0",
   "metadata": {},
   "source": [
    "fresh file downloader"
   ]
  },
  {
   "cell_type": "code",
   "execution_count": null,
   "id": "47e7d314-e340-4b22-92c2-76eba5ea1eae",
   "metadata": {},
   "outputs": [],
   "source": [
    "from urllib.parse import urlparse\n",
    "from pathlib import Path\n",
    "import time\n",
    "\n",
    "def is_recently_modified(file_path, hours):\n",
    "    mod_time = Path(file_path).stat().st_mtime\n",
    "    \n",
    "    current_time = time.time()\n",
    "    diff = current_time - mod_time\n",
    "    \n",
    "    return diff < hours * 60 * 60\n",
    "\n",
    "def get_filename(url):\n",
    "    return Path(urlparse(url).path).name\n",
    "    \n",
    "def download_if_stale(url, hours=24):\n",
    "    f = Path(get_filename(url))\n",
    "    if not is_recently_modified(f, hours) or not f.exists():\n",
    "        df = pd.read_csv(url)\n",
    "        df.to_csv(f)\n",
    "\n",
    "url = 'https://raw.githubusercontent.com/PacktPublishing/Pandas-Tips-Tricks-and-Best-Practices/main/nz-cpi-q3-2023.csv'\n",
    "download_if_stale(url)"
   ]
  },
  {
   "cell_type": "code",
   "execution_count": null,
   "id": "a2a45ee1-2a04-4665-a56f-f18ef3133607",
   "metadata": {},
   "outputs": [],
   "source": []
  }
 ],
 "metadata": {
  "kernelspec": {
   "display_name": "Python 3 (ipykernel)",
   "language": "python",
   "name": "python3"
  },
  "language_info": {
   "codemirror_mode": {
    "name": "ipython",
    "version": 3
   },
   "file_extension": ".py",
   "mimetype": "text/x-python",
   "name": "python",
   "nbconvert_exporter": "python",
   "pygments_lexer": "ipython3",
   "version": "3.11.7"
  }
 },
 "nbformat": 4,
 "nbformat_minor": 5
}
