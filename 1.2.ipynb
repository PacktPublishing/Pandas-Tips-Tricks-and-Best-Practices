{
 "cells": [
  {
   "cell_type": "markdown",
   "id": "ab1b6ce1-4851-41c1-9508-a4798fda32eb",
   "metadata": {},
   "source": [
    "## Parquet compression options"
   ]
  },
  {
   "cell_type": "code",
   "execution_count": 18,
   "id": "c524deb1-4126-4f87-9e83-48a7d0b37a10",
   "metadata": {},
   "outputs": [],
   "source": [
    "import pandas as pd\n",
    "import numpy as np\n",
    "from pathlib import Path\n",
    "\n",
    "def filesize_mb(file):\n",
    "    ''' helper function to display file size in Megabytes'''\n",
    "    stats = Path(file).stat()\n",
    "    return f'{stats.st_size / 1_000_000:.0f} MB'"
   ]
  },
  {
   "cell_type": "markdown",
   "id": "a399eac5-a742-40d1-bb99-5eab5d4ab402",
   "metadata": {},
   "source": [
    "Load a Parquet file first"
   ]
  },
  {
   "cell_type": "code",
   "execution_count": null,
   "id": "0eaeef31-8e61-4a50-8f4f-595721bb92ee",
   "metadata": {},
   "outputs": [],
   "source": [
    "df = pd.read_parquet('hh.parquet')"
   ]
  },
  {
   "cell_type": "code",
   "execution_count": null,
   "id": "1b13f4bf-79db-4cad-9aeb-07d2085240b9",
   "metadata": {},
   "outputs": [],
   "source": [
    "filesize_mb('hh.parquet')"
   ]
  },
  {
   "cell_type": "code",
   "execution_count": null,
   "id": "16fb9cdd-e29c-4ece-89c7-683c905d419e",
   "metadata": {},
   "outputs": [],
   "source": [
    "df.info()"
   ]
  },
  {
   "cell_type": "markdown",
   "id": "f77757a7-0885-4947-afae-66f9b59d74a8",
   "metadata": {},
   "source": [
    "compression: None"
   ]
  },
  {
   "cell_type": "code",
   "execution_count": null,
   "id": "96007862-769a-44bc-a675-6e742244654d",
   "metadata": {},
   "outputs": [],
   "source": [
    "%%timeit\n",
    "df.to_parquet('hh-none.parquet', compression=None)"
   ]
  },
  {
   "cell_type": "code",
   "execution_count": null,
   "id": "865d7bf9-db45-4eb4-898e-a6ece50a1b8f",
   "metadata": {},
   "outputs": [],
   "source": [
    "filesize_mb('hh-none.parquet')"
   ]
  },
  {
   "cell_type": "code",
   "execution_count": null,
   "id": "41003e1e-05fd-41a5-b855-da6f45c0626d",
   "metadata": {},
   "outputs": [],
   "source": [
    "%%timeit\n",
    "df = pd.read_parquet('hh-none.parquet')"
   ]
  },
  {
   "cell_type": "markdown",
   "id": "0f7d23fd-32c4-4995-8a35-ee2ca9254e04",
   "metadata": {},
   "source": [
    "compression: Snappy"
   ]
  },
  {
   "cell_type": "code",
   "execution_count": null,
   "id": "cad3932b-6efb-4c9e-aadf-7e90d7df0bd9",
   "metadata": {},
   "outputs": [],
   "source": [
    "%%timeit\n",
    "df.to_parquet('hh-snappy.parquet', compression='snappy')"
   ]
  },
  {
   "cell_type": "code",
   "execution_count": null,
   "id": "4bbaf975-03dc-4ca2-8031-102fe9776ec0",
   "metadata": {},
   "outputs": [],
   "source": [
    "filesize_mb('hh-snappy.parquet')"
   ]
  },
  {
   "cell_type": "code",
   "execution_count": null,
   "id": "d67573d2-0b1e-44cf-9558-0787a40b2c28",
   "metadata": {},
   "outputs": [],
   "source": [
    "%%timeit\n",
    "df = pd.read_parquet('hh-snappy.parquet')"
   ]
  },
  {
   "cell_type": "code",
   "execution_count": null,
   "id": "8de30265-336b-402b-8cb0-0b34236cbcca",
   "metadata": {},
   "outputs": [],
   "source": [
    "df.info()"
   ]
  },
  {
   "cell_type": "markdown",
   "id": "42ba20bf-2923-4e46-8939-70f689ac237d",
   "metadata": {},
   "source": [
    "compression: lz4"
   ]
  },
  {
   "cell_type": "code",
   "execution_count": null,
   "id": "48e6d7ae-6ba4-4647-8ee3-512fa8f97df7",
   "metadata": {},
   "outputs": [],
   "source": [
    "%%timeit\n",
    "df.to_parquet('hh-lz4.parquet', compression='lz4')"
   ]
  },
  {
   "cell_type": "code",
   "execution_count": null,
   "id": "d9d48203-a049-49b9-8219-efcddeb3070d",
   "metadata": {},
   "outputs": [],
   "source": [
    "filesize_mb('hh-lz4.parquet')"
   ]
  },
  {
   "cell_type": "code",
   "execution_count": null,
   "id": "0c52a85d-0941-4e6c-8053-f93160df44a2",
   "metadata": {},
   "outputs": [],
   "source": [
    "%%timeit\n",
    "df = pd.read_parquet('hh-lz4.parquet')"
   ]
  },
  {
   "cell_type": "code",
   "execution_count": null,
   "id": "06c820f6-5ddd-41b6-a45d-3d13db308a8e",
   "metadata": {},
   "outputs": [],
   "source": [
    "df.info()"
   ]
  },
  {
   "cell_type": "markdown",
   "id": "dd1c23f1-7fbf-4579-8bce-f77bc0a3b0b9",
   "metadata": {},
   "source": [
    "compression: gzip"
   ]
  },
  {
   "cell_type": "code",
   "execution_count": null,
   "id": "32b440b5-43c3-4021-82b8-2a001c40bb70",
   "metadata": {},
   "outputs": [],
   "source": [
    "%%timeit\n",
    "df.to_parquet('hh-gzip.parquet', compression='gzip')"
   ]
  },
  {
   "cell_type": "code",
   "execution_count": null,
   "id": "b556819c-b4f8-4e6a-95ba-135bf0d0c508",
   "metadata": {},
   "outputs": [],
   "source": [
    "filesize_mb('hh-gzip.parquet')"
   ]
  },
  {
   "cell_type": "code",
   "execution_count": null,
   "id": "33c2e9d9-4ced-40e1-a89e-ddeeb23f7038",
   "metadata": {},
   "outputs": [],
   "source": [
    "%%timeit\n",
    "df = pd.read_parquet('hh-gzip.parquet')"
   ]
  },
  {
   "cell_type": "code",
   "execution_count": null,
   "id": "cacd5e82-40b8-4f58-884f-c38845d1eb82",
   "metadata": {},
   "outputs": [],
   "source": [
    "df.info()"
   ]
  },
  {
   "cell_type": "markdown",
   "id": "7d9424d7-0d02-4eab-9092-23eebd584d83",
   "metadata": {},
   "source": [
    "compression: Zstandard"
   ]
  },
  {
   "cell_type": "code",
   "execution_count": null,
   "id": "60b0e699-4058-4f01-aa09-e42dcafcbae8",
   "metadata": {},
   "outputs": [],
   "source": [
    "%%timeit\n",
    "df.to_parquet('hh-zstd.parquet', compression='zstd')"
   ]
  },
  {
   "cell_type": "code",
   "execution_count": null,
   "id": "57fb5cc0-a081-4f5d-9413-91378c31bb43",
   "metadata": {},
   "outputs": [],
   "source": [
    "filesize_mb('hh-zstd.parquet')"
   ]
  },
  {
   "cell_type": "code",
   "execution_count": null,
   "id": "0e452345-0818-4f69-8423-4dc52f5f94aa",
   "metadata": {},
   "outputs": [],
   "source": [
    "%%timeit\n",
    "df = pd.read_parquet('hh-zstd.parquet')"
   ]
  },
  {
   "cell_type": "code",
   "execution_count": null,
   "id": "2dde4928-8bc0-4944-b2ee-50c3f0bc08cd",
   "metadata": {},
   "outputs": [],
   "source": [
    "df.info()"
   ]
  },
  {
   "cell_type": "markdown",
   "id": "f99b8f2d-b474-45df-926b-614b46ab06bf",
   "metadata": {},
   "source": [
    "compression: Brotli"
   ]
  },
  {
   "cell_type": "code",
   "execution_count": null,
   "id": "f853e7fc-795b-4838-a2a3-966ce0350a77",
   "metadata": {},
   "outputs": [],
   "source": [
    "%%timeit\n",
    "df.to_parquet('hh-brotli.parquet', compression='brotli')"
   ]
  },
  {
   "cell_type": "code",
   "execution_count": null,
   "id": "0fafaeae-a4f8-44d5-9469-8f5d35f49904",
   "metadata": {},
   "outputs": [],
   "source": [
    "filesize_mb('hh-brotli.parquet')"
   ]
  },
  {
   "cell_type": "code",
   "execution_count": null,
   "id": "7eefaea0-d708-4ead-aadd-faeba68fad59",
   "metadata": {},
   "outputs": [],
   "source": [
    "%%timeit\n",
    "df = pd.read_parquet('hh-brotli.parquet')"
   ]
  },
  {
   "cell_type": "markdown",
   "id": "c48e9504-afa9-4636-8053-c025f164dcff",
   "metadata": {},
   "source": [
    "## Selecting specific columns"
   ]
  },
  {
   "cell_type": "markdown",
   "id": "592ebe4b-934f-41c1-89a1-77f3b6a474b6",
   "metadata": {},
   "source": [
    "Loading all columns uses the most memory"
   ]
  },
  {
   "cell_type": "code",
   "execution_count": 19,
   "id": "2bf56845-1350-4ded-993c-25ffbefc0c61",
   "metadata": {},
   "outputs": [],
   "source": [
    "import pandas as pd"
   ]
  },
  {
   "cell_type": "code",
   "execution_count": 20,
   "id": "70efa639-659d-451b-aa18-7fdac43b5e57",
   "metadata": {},
   "outputs": [],
   "source": [
    "df = pd.read_feather('hh.feather')"
   ]
  },
  {
   "cell_type": "code",
   "execution_count": 21,
   "id": "74c78d3a-98b3-4a98-875d-d5ba96b644b4",
   "metadata": {},
   "outputs": [
    {
     "name": "stdout",
     "output_type": "stream",
     "text": [
      "<class 'pandas.core.frame.DataFrame'>\n",
      "RangeIndex: 2075259 entries, 0 to 2075258\n",
      "Data columns (total 9 columns):\n",
      " #   Column                 Dtype  \n",
      "---  ------                 -----  \n",
      " 0   Date                   object \n",
      " 1   Time                   object \n",
      " 2   Global_active_power    float64\n",
      " 3   Global_reactive_power  float64\n",
      " 4   Voltage                float64\n",
      " 5   Global_intensity       float64\n",
      " 6   Sub_metering_1         float64\n",
      " 7   Sub_metering_2         float64\n",
      " 8   Sub_metering_3         float64\n",
      "dtypes: float64(7), object(2)\n",
      "memory usage: 142.5+ MB\n"
     ]
    }
   ],
   "source": [
    "df.info()"
   ]
  },
  {
   "cell_type": "code",
   "execution_count": 22,
   "id": "3fe086fc-31f5-4b54-86ac-d91bba02a16b",
   "metadata": {},
   "outputs": [],
   "source": [
    "df = pd.read_parquet('hh.parquet')"
   ]
  },
  {
   "cell_type": "code",
   "execution_count": 23,
   "id": "337117e2-603d-421b-a517-d5926cfca703",
   "metadata": {},
   "outputs": [
    {
     "name": "stdout",
     "output_type": "stream",
     "text": [
      "<class 'pandas.core.frame.DataFrame'>\n",
      "RangeIndex: 2075259 entries, 0 to 2075258\n",
      "Data columns (total 9 columns):\n",
      " #   Column                 Dtype  \n",
      "---  ------                 -----  \n",
      " 0   Date                   object \n",
      " 1   Time                   object \n",
      " 2   Global_active_power    float64\n",
      " 3   Global_reactive_power  float64\n",
      " 4   Voltage                float64\n",
      " 5   Global_intensity       float64\n",
      " 6   Sub_metering_1         float64\n",
      " 7   Sub_metering_2         float64\n",
      " 8   Sub_metering_3         float64\n",
      "dtypes: float64(7), object(2)\n",
      "memory usage: 142.5+ MB\n"
     ]
    }
   ],
   "source": [
    "df.info()"
   ]
  },
  {
   "cell_type": "markdown",
   "id": "c270751f-00ef-44d1-bc37-48e028aa969e",
   "metadata": {},
   "source": [
    "Loading only selected columns uses less memory"
   ]
  },
  {
   "cell_type": "markdown",
   "id": "c7744dc3-b383-4203-adc0-287f83a9f1e5",
   "metadata": {},
   "source": [
    "columns specified by name"
   ]
  },
  {
   "cell_type": "code",
   "execution_count": 24,
   "id": "bf9009d3-8af4-4fba-afd1-27553a44b5a2",
   "metadata": {},
   "outputs": [],
   "source": [
    "df = pd.read_parquet('hh.parquet', columns=['Date', 'Time', 'Global_active_power', 'Voltage'])"
   ]
  },
  {
   "cell_type": "code",
   "execution_count": 25,
   "id": "e9ee25ce-fa5b-4aa5-a191-e4a662c09292",
   "metadata": {},
   "outputs": [
    {
     "name": "stdout",
     "output_type": "stream",
     "text": [
      "<class 'pandas.core.frame.DataFrame'>\n",
      "RangeIndex: 2075259 entries, 0 to 2075258\n",
      "Data columns (total 4 columns):\n",
      " #   Column               Dtype  \n",
      "---  ------               -----  \n",
      " 0   Date                 object \n",
      " 1   Time                 object \n",
      " 2   Global_active_power  float64\n",
      " 3   Voltage              float64\n",
      "dtypes: float64(2), object(2)\n",
      "memory usage: 63.3+ MB\n"
     ]
    }
   ],
   "source": [
    "df.info()"
   ]
  },
  {
   "cell_type": "markdown",
   "id": "e61fdfac-6fb5-411d-ad58-5c8705fd0eef",
   "metadata": {},
   "source": [
    "columns specified by index"
   ]
  },
  {
   "cell_type": "code",
   "execution_count": 26,
   "id": "d3139aaa-1e05-4bec-a73f-701231371af4",
   "metadata": {},
   "outputs": [],
   "source": [
    "df = pd.read_feather('hh.feather')"
   ]
  },
  {
   "cell_type": "code",
   "execution_count": 27,
   "id": "aa5347cf-b530-4acf-bd05-a4b46b3b2c2b",
   "metadata": {},
   "outputs": [
    {
     "name": "stdout",
     "output_type": "stream",
     "text": [
      "<class 'pandas.core.frame.DataFrame'>\n",
      "RangeIndex: 2075259 entries, 0 to 2075258\n",
      "Data columns (total 9 columns):\n",
      " #   Column                 Dtype  \n",
      "---  ------                 -----  \n",
      " 0   Date                   object \n",
      " 1   Time                   object \n",
      " 2   Global_active_power    float64\n",
      " 3   Global_reactive_power  float64\n",
      " 4   Voltage                float64\n",
      " 5   Global_intensity       float64\n",
      " 6   Sub_metering_1         float64\n",
      " 7   Sub_metering_2         float64\n",
      " 8   Sub_metering_3         float64\n",
      "dtypes: float64(7), object(2)\n",
      "memory usage: 142.5+ MB\n"
     ]
    }
   ],
   "source": [
    "df.info()"
   ]
  },
  {
   "cell_type": "code",
   "execution_count": 28,
   "id": "853808d1-49ed-403f-8a65-44b08556a550",
   "metadata": {},
   "outputs": [],
   "source": [
    "df = pd.read_feather('hh.feather', columns=[0, 1, 2, 4, 5, 6])"
   ]
  },
  {
   "cell_type": "code",
   "execution_count": 29,
   "id": "41e6f3ed-00b6-48d8-a361-3c4914506bfc",
   "metadata": {},
   "outputs": [
    {
     "name": "stdout",
     "output_type": "stream",
     "text": [
      "<class 'pandas.core.frame.DataFrame'>\n",
      "RangeIndex: 2075259 entries, 0 to 2075258\n",
      "Data columns (total 6 columns):\n",
      " #   Column               Dtype  \n",
      "---  ------               -----  \n",
      " 0   Date                 object \n",
      " 1   Time                 object \n",
      " 2   Global_active_power  float64\n",
      " 3   Voltage              float64\n",
      " 4   Global_intensity     float64\n",
      " 5   Sub_metering_1       float64\n",
      "dtypes: float64(4), object(2)\n",
      "memory usage: 95.0+ MB\n"
     ]
    }
   ],
   "source": [
    "df.info()"
   ]
  },
  {
   "cell_type": "markdown",
   "id": "e94d4d6f-7d4a-4603-8edc-d7e5209c62a6",
   "metadata": {},
   "source": [
    "## Parquet filters"
   ]
  },
  {
   "cell_type": "code",
   "execution_count": 30,
   "id": "ef8c1272-dd89-40dc-aae6-d255f040b135",
   "metadata": {},
   "outputs": [],
   "source": [
    "df = pd.read_parquet('hh.parquet')"
   ]
  },
  {
   "cell_type": "code",
   "execution_count": 31,
   "id": "86bbe72b-0fee-41ce-b300-a7f26edf5e04",
   "metadata": {},
   "outputs": [
    {
     "name": "stdout",
     "output_type": "stream",
     "text": [
      "<class 'pandas.core.frame.DataFrame'>\n",
      "RangeIndex: 2075259 entries, 0 to 2075258\n",
      "Data columns (total 9 columns):\n",
      " #   Column                 Dtype  \n",
      "---  ------                 -----  \n",
      " 0   Date                   object \n",
      " 1   Time                   object \n",
      " 2   Global_active_power    float64\n",
      " 3   Global_reactive_power  float64\n",
      " 4   Voltage                float64\n",
      " 5   Global_intensity       float64\n",
      " 6   Sub_metering_1         float64\n",
      " 7   Sub_metering_2         float64\n",
      " 8   Sub_metering_3         float64\n",
      "dtypes: float64(7), object(2)\n",
      "memory usage: 142.5+ MB\n"
     ]
    }
   ],
   "source": [
    "df.info()"
   ]
  },
  {
   "cell_type": "code",
   "execution_count": 32,
   "id": "d2b1a689-a9c4-4c8f-b1a8-3348e9b098c6",
   "metadata": {},
   "outputs": [],
   "source": [
    "f = [('Sub_metering_1', '>', 0)]\n",
    "df = pd.read_parquet('hh.parquet', filters=f)"
   ]
  },
  {
   "cell_type": "markdown",
   "id": "b8634f2f-9479-49be-aaf1-187954ced708",
   "metadata": {},
   "source": [
    "memory usage and number of rows are signficantly reduced"
   ]
  },
  {
   "cell_type": "code",
   "execution_count": 33,
   "id": "3de32447-2315-4bf7-bc33-587577fc4e5f",
   "metadata": {},
   "outputs": [
    {
     "name": "stdout",
     "output_type": "stream",
     "text": [
      "<class 'pandas.core.frame.DataFrame'>\n",
      "RangeIndex: 169105 entries, 0 to 169104\n",
      "Data columns (total 9 columns):\n",
      " #   Column                 Non-Null Count   Dtype  \n",
      "---  ------                 --------------   -----  \n",
      " 0   Date                   169105 non-null  object \n",
      " 1   Time                   169105 non-null  object \n",
      " 2   Global_active_power    169105 non-null  float64\n",
      " 3   Global_reactive_power  169105 non-null  float64\n",
      " 4   Voltage                169105 non-null  float64\n",
      " 5   Global_intensity       169105 non-null  float64\n",
      " 6   Sub_metering_1         169105 non-null  float64\n",
      " 7   Sub_metering_2         169105 non-null  float64\n",
      " 8   Sub_metering_3         169105 non-null  float64\n",
      "dtypes: float64(7), object(2)\n",
      "memory usage: 11.6+ MB\n"
     ]
    }
   ],
   "source": [
    "df.info()"
   ]
  },
  {
   "cell_type": "code",
   "execution_count": 34,
   "id": "096264d4-282f-413d-87d6-f9415e50e14e",
   "metadata": {},
   "outputs": [
    {
     "data": {
      "text/plain": [
       "169105"
      ]
     },
     "execution_count": 34,
     "metadata": {},
     "output_type": "execute_result"
    }
   ],
   "source": [
    "len(df)"
   ]
  },
  {
   "cell_type": "markdown",
   "id": "d91901e3-a51f-497c-a368-69b4cb2b896f",
   "metadata": {},
   "source": [
    "Predicates within lists have the AND operator applied (note the placement of the brackets)"
   ]
  },
  {
   "cell_type": "markdown",
   "id": "69ce3cf0-5ffc-4320-ba17-de6c8d27a0f8",
   "metadata": {},
   "source": [
    "filter rows that have [Sub_metering_1 > 0 AND Sub_metering_2 > 0 AND Sub_metering_3 > 0]"
   ]
  },
  {
   "cell_type": "code",
   "execution_count": 35,
   "id": "4a1d58a2-6ba6-4813-8c9c-eb0ad929538e",
   "metadata": {},
   "outputs": [],
   "source": [
    "f = [('Sub_metering_1', '>', 0), \n",
    "     ('Sub_metering_2', '>', 0), \n",
    "     ('Sub_metering_3', '>', 0)]\n",
    "df = pd.read_parquet('hh.parquet', filters=f)"
   ]
  },
  {
   "cell_type": "code",
   "execution_count": 36,
   "id": "f289d6fa-e65b-4ae3-862b-785e67388f2c",
   "metadata": {},
   "outputs": [
    {
     "name": "stdout",
     "output_type": "stream",
     "text": [
      "<class 'pandas.core.frame.DataFrame'>\n",
      "RangeIndex: 48693 entries, 0 to 48692\n",
      "Data columns (total 9 columns):\n",
      " #   Column                 Non-Null Count  Dtype  \n",
      "---  ------                 --------------  -----  \n",
      " 0   Date                   48693 non-null  object \n",
      " 1   Time                   48693 non-null  object \n",
      " 2   Global_active_power    48693 non-null  float64\n",
      " 3   Global_reactive_power  48693 non-null  float64\n",
      " 4   Voltage                48693 non-null  float64\n",
      " 5   Global_intensity       48693 non-null  float64\n",
      " 6   Sub_metering_1         48693 non-null  float64\n",
      " 7   Sub_metering_2         48693 non-null  float64\n",
      " 8   Sub_metering_3         48693 non-null  float64\n",
      "dtypes: float64(7), object(2)\n",
      "memory usage: 3.3+ MB\n"
     ]
    }
   ],
   "source": [
    "df.info()"
   ]
  },
  {
   "cell_type": "code",
   "execution_count": 37,
   "id": "86671454-77d7-4c6b-9a08-3c741cec7475",
   "metadata": {},
   "outputs": [
    {
     "data": {
      "text/plain": [
       "48693"
      ]
     },
     "execution_count": 37,
     "metadata": {},
     "output_type": "execute_result"
    }
   ],
   "source": [
    "len(df)"
   ]
  },
  {
   "cell_type": "markdown",
   "id": "412344b7-41c8-4a7f-b423-0a46ca1ec3d8",
   "metadata": {},
   "source": [
    "Predicates not within lists have the OR operator applied (note the placement of the brackets)"
   ]
  },
  {
   "cell_type": "markdown",
   "id": "5ebf295c-fa49-4e13-8f94-1ca8bc3cbd7b",
   "metadata": {},
   "source": [
    "filter rows that have [Sub_metering_1 > 0] OR [Sub_metering_2 > 0] OR [Sub_metering_3 > 0]"
   ]
  },
  {
   "cell_type": "code",
   "execution_count": 38,
   "id": "597aa726-514e-48ec-a465-963c918287e7",
   "metadata": {},
   "outputs": [],
   "source": [
    "f = [[('Sub_metering_1', '>', 0)], \n",
    "     [('Sub_metering_2', '>', 0)], \n",
    "     [('Sub_metering_3', '>', 0)]]\n",
    "df = pd.read_parquet('hh.parquet', filters=f)"
   ]
  },
  {
   "cell_type": "code",
   "execution_count": 39,
   "id": "d16c24ef-d5b9-440c-a31c-6c9cb96292c4",
   "metadata": {},
   "outputs": [
    {
     "name": "stdout",
     "output_type": "stream",
     "text": [
      "<class 'pandas.core.frame.DataFrame'>\n",
      "RangeIndex: 1454154 entries, 0 to 1454153\n",
      "Data columns (total 9 columns):\n",
      " #   Column                 Non-Null Count    Dtype  \n",
      "---  ------                 --------------    -----  \n",
      " 0   Date                   1454154 non-null  object \n",
      " 1   Time                   1454154 non-null  object \n",
      " 2   Global_active_power    1454154 non-null  float64\n",
      " 3   Global_reactive_power  1454154 non-null  float64\n",
      " 4   Voltage                1454154 non-null  float64\n",
      " 5   Global_intensity       1454154 non-null  float64\n",
      " 6   Sub_metering_1         1454154 non-null  float64\n",
      " 7   Sub_metering_2         1454154 non-null  float64\n",
      " 8   Sub_metering_3         1454154 non-null  float64\n",
      "dtypes: float64(7), object(2)\n",
      "memory usage: 99.8+ MB\n"
     ]
    }
   ],
   "source": [
    "df.info()"
   ]
  },
  {
   "cell_type": "code",
   "execution_count": 40,
   "id": "53b5d273-1e78-4119-b7ca-588197f945dc",
   "metadata": {},
   "outputs": [
    {
     "data": {
      "text/plain": [
       "1454154"
      ]
     },
     "execution_count": 40,
     "metadata": {},
     "output_type": "execute_result"
    }
   ],
   "source": [
    "len(df)"
   ]
  },
  {
   "cell_type": "markdown",
   "id": "ab2e78ac-8655-4581-a528-8066927d04a0",
   "metadata": {},
   "source": [
    "Combination of AND and OR (note the placement of the brackets)"
   ]
  },
  {
   "cell_type": "code",
   "execution_count": 41,
   "id": "2f9a1068-8b01-44d4-b728-d2e1d2ae761d",
   "metadata": {},
   "outputs": [
    {
     "data": {
      "text/plain": [
       "count    1.454154e+06\n",
       "mean     2.405270e+02\n",
       "std      3.159290e+00\n",
       "min      2.232000e+02\n",
       "25%      2.387600e+02\n",
       "50%      2.407100e+02\n",
       "75%      2.425200e+02\n",
       "max      2.537500e+02\n",
       "Name: Voltage, dtype: float64"
      ]
     },
     "execution_count": 41,
     "metadata": {},
     "output_type": "execute_result"
    }
   ],
   "source": [
    "df.Voltage.describe()"
   ]
  },
  {
   "cell_type": "markdown",
   "id": "a6f208b0-8adc-4a0c-b4b3-53a8237ae7ee",
   "metadata": {},
   "source": [
    "filter rows that have [Voltage > 240 AND Sub_metering_1 == 0] OR [Voltage <= 240]"
   ]
  },
  {
   "cell_type": "code",
   "execution_count": 42,
   "id": "60530ee4-6f8a-49b3-b63b-db66d0084696",
   "metadata": {},
   "outputs": [],
   "source": [
    "f = [[('Voltage', '>', 240), ('Sub_metering_1', '==', 0)],\n",
    "     [('Voltage', '<=', 240)]\n",
    "    ]\n",
    "df = pd.read_parquet('hh.parquet', filters=f)"
   ]
  },
  {
   "cell_type": "code",
   "execution_count": 43,
   "id": "512c435c-d09d-4651-b30e-403f019d9e05",
   "metadata": {},
   "outputs": [
    {
     "name": "stdout",
     "output_type": "stream",
     "text": [
      "<class 'pandas.core.frame.DataFrame'>\n",
      "RangeIndex: 1986337 entries, 0 to 1986336\n",
      "Data columns (total 9 columns):\n",
      " #   Column                 Dtype  \n",
      "---  ------                 -----  \n",
      " 0   Date                   object \n",
      " 1   Time                   object \n",
      " 2   Global_active_power    float64\n",
      " 3   Global_reactive_power  float64\n",
      " 4   Voltage                float64\n",
      " 5   Global_intensity       float64\n",
      " 6   Sub_metering_1         float64\n",
      " 7   Sub_metering_2         float64\n",
      " 8   Sub_metering_3         float64\n",
      "dtypes: float64(7), object(2)\n",
      "memory usage: 136.4+ MB\n"
     ]
    }
   ],
   "source": [
    "df.info()"
   ]
  },
  {
   "cell_type": "code",
   "execution_count": 44,
   "id": "bcc2b653-e417-4091-8ec4-0319a7abb456",
   "metadata": {},
   "outputs": [
    {
     "data": {
      "text/plain": [
       "1986337"
      ]
     },
     "execution_count": 44,
     "metadata": {},
     "output_type": "execute_result"
    }
   ],
   "source": [
    "len(df)"
   ]
  },
  {
   "cell_type": "code",
   "execution_count": null,
   "id": "02735e6c-1430-4f7f-b2cd-2a8c62378e2c",
   "metadata": {},
   "outputs": [],
   "source": []
  }
 ],
 "metadata": {
  "kernelspec": {
   "display_name": "Python 3 (ipykernel)",
   "language": "python",
   "name": "python3"
  },
  "language_info": {
   "codemirror_mode": {
    "name": "ipython",
    "version": 3
   },
   "file_extension": ".py",
   "mimetype": "text/x-python",
   "name": "python",
   "nbconvert_exporter": "python",
   "pygments_lexer": "ipython3",
   "version": "3.11.7"
  }
 },
 "nbformat": 4,
 "nbformat_minor": 5
}
