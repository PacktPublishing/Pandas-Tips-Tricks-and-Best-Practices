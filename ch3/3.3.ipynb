{
 "cells": [
  {
   "cell_type": "markdown",
   "id": "a0b35194-447d-4219-bea8-4ad173bb1981",
   "metadata": {},
   "source": [
    "date and time range"
   ]
  },
  {
   "cell_type": "markdown",
   "id": "ea50148a-bf6b-4601-aff1-9e5b812f1fe3",
   "metadata": {},
   "source": [
    "generate a range from '2025-01-01' to '2027-01-01' with a start of the month frequency"
   ]
  },
  {
   "cell_type": "code",
   "execution_count": null,
   "id": "c14b96f0-de36-4d52-aa21-ae0633ecb04f",
   "metadata": {
    "tags": []
   },
   "outputs": [],
   "source": [
    "import pandas as pd\n",
    "import numpy as np\n",
    "\n",
    "pd.date_range('2025-01-01', '2026-01-01', freq='MS')"
   ]
  },
  {
   "cell_type": "markdown",
   "id": "07450b98-d357-4001-baa8-ccc1e8d52ac8",
   "metadata": {},
   "source": [
    "generate a range from '2025-01-01', 6 periods and a weekly frequency"
   ]
  },
  {
   "cell_type": "code",
   "execution_count": null,
   "id": "ff66f1d0-0442-44ad-84c9-27084269a06d",
   "metadata": {},
   "outputs": [],
   "source": [
    "pd.date_range('2025-01-01', periods=6, freq='W')"
   ]
  },
  {
   "cell_type": "markdown",
   "id": "e475b786-83cc-44c2-9eb2-d4961ced3dce",
   "metadata": {},
   "source": [
    "generate a range with the end date with a date and time of '20250-01-01 5:00PM', 8 periods and a frequency of 15 minutes"
   ]
  },
  {
   "cell_type": "code",
   "execution_count": null,
   "id": "f11a979c-1630-4f2e-ad36-ffc8fd404a8d",
   "metadata": {},
   "outputs": [],
   "source": [
    "pd.date_range(end='2025-01-01 5:00PM', periods=8, freq='15min')"
   ]
  },
  {
   "cell_type": "markdown",
   "id": "4c277128-e06d-45c5-8dff-824210a49879",
   "metadata": {},
   "source": [
    "shuffle a generated date range with 5 days starting from '2025-01-01'"
   ]
  },
  {
   "cell_type": "code",
   "execution_count": null,
   "id": "d97e6857-2e4d-4829-a2ee-25154970cdd9",
   "metadata": {},
   "outputs": [],
   "source": [
    "dates = np.array(pd.date_range(start='2025-01-01', periods=5))\n",
    "dates.astype('datetime64[D]')\n",
    "np.random.shuffle(dates)\n"
   ]
  },
  {
   "cell_type": "markdown",
   "id": "e353c19c-46dd-4192-a32b-96f7b2c5d080",
   "metadata": {},
   "source": [
    "randomly select strings from a list"
   ]
  },
  {
   "cell_type": "code",
   "execution_count": null,
   "id": "38f926f4-6117-4a9f-b31c-806a8e42082b",
   "metadata": {},
   "outputs": [],
   "source": [
    "import pandas as pd\n",
    "import numpy as np\n",
    "\n",
    "df = pd.DataFrame()\n",
    "row_count = 100\n",
    "subject = ['Math', 'Science', 'Reading', 'History']\n",
    "df['subject'] = np.random.choice(subject, size=row_count)\n",
    "color = ['red', 'orange', 'yellow', 'green', 'blue']\n",
    "df['color'] = np.random.choice(color, size=row_count)\n",
    "df.head()\n"
   ]
  },
  {
   "cell_type": "markdown",
   "id": "e14778ca-b5b6-4a9e-93a1-df721adb912d",
   "metadata": {},
   "source": [
    "Shuffling a list with 100 employee ranks. It should consist of 1 CEOs, 5 VPs, 14 managers and 90 employees."
   ]
  },
  {
   "cell_type": "code",
   "execution_count": null,
   "id": "c1cecd8e-2ff7-4736-9d2f-2c169a4a029f",
   "metadata": {},
   "outputs": [],
   "source": [
    "emps = {'CEO': 1, 'VP': 5, 'manager': 14, 'employee': 80}\n",
    "groups = [[rank] * count for rank, count in emps.items()]\n",
    "alist = [emp for group in groups for emp in group]\n",
    "np.random.shuffle(alist)"
   ]
  },
  {
   "cell_type": "code",
   "execution_count": null,
   "id": "e7bc6735-9dc0-4609-ab9b-4f52a18851b2",
   "metadata": {},
   "outputs": [],
   "source": [
    "alist"
   ]
  }
 ],
 "metadata": {
  "kernelspec": {
   "display_name": "Python 3 (ipykernel)",
   "language": "python",
   "name": "python3"
  },
  "language_info": {
   "codemirror_mode": {
    "name": "ipython",
    "version": 3
   },
   "file_extension": ".py",
   "mimetype": "text/x-python",
   "name": "python",
   "nbconvert_exporter": "python",
   "pygments_lexer": "ipython3",
   "version": "3.11.7"
  }
 },
 "nbformat": 4,
 "nbformat_minor": 5
}
