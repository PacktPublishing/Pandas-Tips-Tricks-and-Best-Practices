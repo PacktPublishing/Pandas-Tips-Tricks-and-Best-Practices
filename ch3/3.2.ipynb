{
 "cells": [
  {
   "cell_type": "code",
   "execution_count": null,
   "id": "212550a2-50d1-424b-accd-b6cf4beee541",
   "metadata": {},
   "outputs": [],
   "source": [
    "import pandas as pd\n",
    "import numpy as np"
   ]
  },
  {
   "cell_type": "markdown",
   "id": "19a71e16-8983-4e0c-abb5-74a839325a25",
   "metadata": {},
   "source": [
    "fill a DataFrame with constant numbers"
   ]
  },
  {
   "cell_type": "code",
   "execution_count": null,
   "id": "b39516b3-0169-4145-a64a-f8459da5aee6",
   "metadata": {},
   "outputs": [],
   "source": [
    "df = pd.DataFrame()\n",
    "\n",
    "row_count = 100\n",
    "df[['total', 'average']] = np.zeros([row_count, 2])\n",
    "df['start'] = np.ones([row_count,])\n",
    "df['fuel'] = np.full([row_count, ], fill_value=100)\n",
    "\n",
    "df.head()"
   ]
  },
  {
   "cell_type": "markdown",
   "id": "c73ce018-3ae8-45d2-a7e2-c43ddadf58cc",
   "metadata": {},
   "source": [
    "arange() examples"
   ]
  },
  {
   "cell_type": "code",
   "execution_count": null,
   "id": "860dfa76-f01f-49bb-849d-e97976096658",
   "metadata": {},
   "outputs": [],
   "source": [
    "df = pd.DataFrame()\n",
    "row_count = 100\n",
    "df['ascending'] = np.arange(row_count)\n",
    "df['ascending start'] = np.arange(10, row_count + 10)\n",
    "df['descending'] = np.arange(row_count, 0, -1)\n",
    "df['floats'] = np.arange(2, row_count / 2 + 2, .5)\n",
    "df.head()"
   ]
  },
  {
   "cell_type": "markdown",
   "id": "8832e377-6d94-4b3e-b5d9-1983a3cc176a",
   "metadata": {},
   "source": [
    "linspace() and geomspace() examples"
   ]
  },
  {
   "cell_type": "code",
   "execution_count": null,
   "id": "450cbd80-fe40-4c91-8051-1122fbb723f2",
   "metadata": {},
   "outputs": [],
   "source": [
    "df = pd.DataFrame()\n",
    "row_count = 100\n",
    "df['linear'] = np.linspace(1, 50, row_count)\n",
    "df['geometric'] = np.geomspace(1, 50, row_count)\n",
    "df.head()"
   ]
  },
  {
   "cell_type": "markdown",
   "id": "db372287-bb8e-4246-a771-f514a61ba287",
   "metadata": {
    "tags": []
   },
   "source": [
    "plot of linspace() and geomspace()"
   ]
  },
  {
   "cell_type": "code",
   "execution_count": null,
   "id": "2c78cc09-2fc8-4c41-95e4-55b1e00e9b68",
   "metadata": {
    "tags": []
   },
   "outputs": [],
   "source": [
    "df.plot()"
   ]
  },
  {
   "cell_type": "markdown",
   "id": "f6ce7760-31e8-4963-8493-904c714f8317",
   "metadata": {},
   "source": [
    "Generate a range from a function"
   ]
  },
  {
   "cell_type": "code",
   "execution_count": null,
   "id": "b4364c85-4e2d-45a0-a5bc-23866ef42d24",
   "metadata": {
    "tags": []
   },
   "outputs": [],
   "source": [
    "import pandas as pd\n",
    "import numpy as np\n",
    "\n",
    "def f(x):\n",
    "    return x ** 2 + 10\n",
    "row_count = 10\n",
    "f(np.arange(0, row_count))"
   ]
  },
  {
   "cell_type": "markdown",
   "id": "5497b705-46f7-43da-9172-90d95b90acda",
   "metadata": {},
   "source": [
    "Random Numbers"
   ]
  },
  {
   "cell_type": "markdown",
   "id": "4f738e8b-478e-4d22-930f-283670800f22",
   "metadata": {},
   "source": [
    "generate 10 random numbers between 0 and 1 (exclusive)"
   ]
  },
  {
   "cell_type": "code",
   "execution_count": null,
   "id": "619ffafc-02c8-4850-8ab7-ef208b683dcd",
   "metadata": {
    "tags": []
   },
   "outputs": [],
   "source": [
    "np.random.rand(10)"
   ]
  },
  {
   "cell_type": "markdown",
   "id": "5486bf36-12a2-4037-ad00-53171c58bb12",
   "metadata": {},
   "source": [
    "generate an array of integers from 0 to 100 inclusively, with a shape of 10"
   ]
  },
  {
   "cell_type": "code",
   "execution_count": null,
   "id": "e8d26ac0-6946-4647-b9c4-79a9d5edc20f",
   "metadata": {
    "tags": []
   },
   "outputs": [],
   "source": [
    "np.random.randint(0, 100, size=10)"
   ]
  },
  {
   "cell_type": "markdown",
   "id": "9f506262-1b90-4297-8396-dee489269e07",
   "metadata": {},
   "source": [
    "generate an array of 10 numbers with a mean of 20 and standard deviation of 3"
   ]
  },
  {
   "cell_type": "code",
   "execution_count": null,
   "id": "89178648-6672-4d2e-898d-ffc35226d42c",
   "metadata": {
    "tags": []
   },
   "outputs": [],
   "source": [
    "scores = np.random.normal(20, 3, 10)"
   ]
  },
  {
   "cell_type": "code",
   "execution_count": null,
   "id": "abd0b021-e8f9-4f44-bb35-3234d4e1e27f",
   "metadata": {
    "tags": []
   },
   "outputs": [],
   "source": [
    "scores"
   ]
  },
  {
   "cell_type": "markdown",
   "id": "4c45cd47-f3ee-4fc7-8dde-39cd2636e819",
   "metadata": {},
   "source": [
    "get the mean and standard deviation of the scores array"
   ]
  },
  {
   "cell_type": "code",
   "execution_count": null,
   "id": "a3f59e54-d2f6-4130-a572-688894ca071f",
   "metadata": {},
   "outputs": [],
   "source": [
    "scores.mean(), scores.std()"
   ]
  }
 ],
 "metadata": {
  "kernelspec": {
   "display_name": "Python 3 (ipykernel)",
   "language": "python",
   "name": "python3"
  },
  "language_info": {
   "codemirror_mode": {
    "name": "ipython",
    "version": 3
   },
   "file_extension": ".py",
   "mimetype": "text/x-python",
   "name": "python",
   "nbconvert_exporter": "python",
   "pygments_lexer": "ipython3",
   "version": "3.11.7"
  }
 },
 "nbformat": 4,
 "nbformat_minor": 5
}
