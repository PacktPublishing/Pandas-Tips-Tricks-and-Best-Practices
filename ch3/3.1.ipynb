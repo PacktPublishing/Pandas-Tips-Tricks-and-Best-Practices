{
 "cells": [
  {
   "cell_type": "markdown",
   "id": "f38e1e0d-8131-436f-91e6-50d66d9c3d8e",
   "metadata": {},
   "source": [
    "install with conda"
   ]
  },
  {
   "cell_type": "code",
   "execution_count": null,
   "id": "d9119bb8-d3c7-4125-9b5c-05067016ba61",
   "metadata": {},
   "outputs": [],
   "source": [
    "conda install anaconda-cloud::anaconda-catalogs"
   ]
  },
  {
   "cell_type": "markdown",
   "id": "ea00ee40-c5d1-4c0b-9e0c-565d5e986ee4",
   "metadata": {},
   "source": [
    "Installation with pip"
   ]
  },
  {
   "cell_type": "code",
   "execution_count": null,
   "id": "d17db260-82a2-4f76-874e-426b198e9dc0",
   "metadata": {
    "scrolled": true
   },
   "outputs": [],
   "source": [
    "pip install anaconda-catalogs"
   ]
  },
  {
   "cell_type": "markdown",
   "id": "895ad44c-b8a0-48a8-a8d5-7803eb5b11df",
   "metadata": {},
   "source": [
    "Display list of catalogs"
   ]
  },
  {
   "cell_type": "code",
   "execution_count": null,
   "id": "e9c30455-5f9d-4120-b642-4a37106bb5e7",
   "metadata": {},
   "outputs": [],
   "source": [
    "import intake\n",
    "list(intake.open_anaconda_catalog(\"examples\"))"
   ]
  },
  {
   "cell_type": "markdown",
   "id": "337c6912-07df-418a-a7ad-a7642443cee6",
   "metadata": {},
   "source": [
    "Select a catalog and display its sources"
   ]
  },
  {
   "cell_type": "markdown",
   "id": "3f235cae-6cb5-4990-a207-abff96828a12",
   "metadata": {},
   "source": [
    "in the following example, we look at the sources in the ncaa catalog"
   ]
  },
  {
   "cell_type": "code",
   "execution_count": null,
   "id": "3529038a-9c4c-41f0-91da-b5026924046e",
   "metadata": {},
   "outputs": [],
   "source": [
    "import intake\n",
    "examples = intake.open_anaconda_catalog(\"examples\")\n",
    "sources = examples.ncaa\n",
    "list(sources)\n"
   ]
  },
  {
   "cell_type": "markdown",
   "id": "e3daae7c-b441-4454-899a-62d5c0c573eb",
   "metadata": {},
   "source": [
    "Details of the ratings dataset in the ncaa catalog"
   ]
  },
  {
   "cell_type": "code",
   "execution_count": null,
   "id": "1466da6b-f93a-4312-b513-4fa686f93ed4",
   "metadata": {},
   "outputs": [],
   "source": [
    "import intake\n",
    "examples = intake.open_anaconda_catalog(\"examples\")\n",
    "sources = examples.ncaa\n",
    "sources.ratings"
   ]
  },
  {
   "cell_type": "markdown",
   "id": "0645aee3-3187-482b-973f-137a75ccd760",
   "metadata": {},
   "source": [
    "Import the wind_turbines dataset and display the first 5 rows and first 5 columns"
   ]
  },
  {
   "cell_type": "code",
   "execution_count": null,
   "id": "777a3da8-90f7-490c-ad73-e8159b89246b",
   "metadata": {},
   "outputs": [],
   "source": [
    "import intake\n",
    "examples = intake.open_anaconda_catalog(\"examples\")\n",
    "sources = examples.uswtdb\n",
    "df = sources.wind_turbines.read()\n",
    "df.iloc[0:5, 0:10]"
   ]
  },
  {
   "cell_type": "code",
   "execution_count": null,
   "id": "f2c8c58d-afa7-4d04-871e-fbd623657039",
   "metadata": {},
   "outputs": [],
   "source": [
    "df.info()"
   ]
  },
  {
   "cell_type": "code",
   "execution_count": null,
   "id": "fd2a57c0-cdd0-42a7-8fdd-87469d508552",
   "metadata": {},
   "outputs": [],
   "source": []
  }
 ],
 "metadata": {
  "kernelspec": {
   "display_name": "Python 3 (ipykernel)",
   "language": "python",
   "name": "python3"
  },
  "language_info": {
   "codemirror_mode": {
    "name": "ipython",
    "version": 3
   },
   "file_extension": ".py",
   "mimetype": "text/x-python",
   "name": "python",
   "nbconvert_exporter": "python",
   "pygments_lexer": "ipython3",
   "version": "3.11.7"
  }
 },
 "nbformat": 4,
 "nbformat_minor": 5
}
