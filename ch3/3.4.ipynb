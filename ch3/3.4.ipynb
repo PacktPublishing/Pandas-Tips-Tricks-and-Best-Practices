{
 "cells": [
  {
   "cell_type": "markdown",
   "id": "ba2a0523-148a-4f27-940a-05e53ae87a7c",
   "metadata": {},
   "source": [
    "faker module"
   ]
  },
  {
   "cell_type": "code",
   "execution_count": null,
   "id": "3e1524ec-161e-4119-b264-3efcd16c81bc",
   "metadata": {},
   "outputs": [],
   "source": [
    "conda install faker"
   ]
  },
  {
   "cell_type": "code",
   "execution_count": null,
   "id": "d62efcb6-47ef-4e7a-9b03-97d17291fac2",
   "metadata": {},
   "outputs": [],
   "source": [
    "pip install faker"
   ]
  },
  {
   "cell_type": "markdown",
   "id": "1c104693-9ab3-40ac-a0aa-a03e4917dcbb",
   "metadata": {},
   "source": [
    "Faker Example"
   ]
  },
  {
   "cell_type": "code",
   "execution_count": null,
   "id": "15fd5025-f6b3-45f7-b73e-266c2add5daa",
   "metadata": {},
   "outputs": [],
   "source": [
    "from faker import Faker\n",
    "fake = Faker()"
   ]
  },
  {
   "cell_type": "code",
   "execution_count": null,
   "id": "abc50540-9720-40a9-9b76-f22c04719654",
   "metadata": {},
   "outputs": [],
   "source": [
    "import pandas as pd\n",
    "df = pd.DataFrame()\n",
    "row_count = 1000\n",
    "df['first'] = [fake.first_name() for _ in range(row_count)]\n",
    "df['last'] = [fake.last_name() for _ in range(row_count)]\n",
    "df['address'] = [fake.address() for _ in range(row_count)]\n",
    "df['occupation']  = [fake.job() for _ in range(row_count)]\n",
    "df.head()"
   ]
  },
  {
   "cell_type": "markdown",
   "id": "39b1bad7-f3a9-49a5-ae5e-67f4194b2de2",
   "metadata": {},
   "source": [
    "Example using the profile() method"
   ]
  },
  {
   "cell_type": "code",
   "execution_count": null,
   "id": "0699117c-9840-4d00-903d-2f2ef637db2a",
   "metadata": {},
   "outputs": [],
   "source": [
    "row_count = 1000\n",
    "df = pd.DataFrame([fake.profile() for _ in range(row_count)])\n",
    "df.iloc[0:6, 0:5]"
   ]
  },
  {
   "cell_type": "markdown",
   "id": "49e3a524-0e19-4d05-9d3f-c264aa0ac760",
   "metadata": {},
   "source": [
    "generate selected columns with the profile() method"
   ]
  },
  {
   "cell_type": "code",
   "execution_count": null,
   "id": "c948e259-11a4-4ba4-bd55-29bb82273bd4",
   "metadata": {},
   "outputs": [],
   "source": [
    "row_count = 1000\n",
    "columns = ['job', 'company', 'name', 'address']\n",
    "df = pd.DataFrame([fake.profile(columns) for _ in range(row_count)])\n",
    "df.head()"
   ]
  },
  {
   "cell_type": "markdown",
   "id": "d5a534d2-68ed-48c3-9c20-1e97cc15e312",
   "metadata": {},
   "source": [
    "Listing locales in system"
   ]
  },
  {
   "cell_type": "code",
   "execution_count": null,
   "id": "beb6eab9-c31f-48d3-8936-35ee1a2c2f57",
   "metadata": {
    "tags": []
   },
   "outputs": [],
   "source": [
    "import locale\n",
    "available_locales = locale.locale_alias.keys()\n",
    "sorted_locales = sorted(available_locales)\n",
    "print(sorted_locales)\n"
   ]
  },
  {
   "cell_type": "markdown",
   "id": "d63bf5b8-a487-4cbb-a1d6-1d9a34f965da",
   "metadata": {},
   "source": [
    "Generate list of names with the following locales: Spanish (Mexico), Japanese (Japan), English (India)"
   ]
  },
  {
   "cell_type": "code",
   "execution_count": null,
   "id": "da77c96a-bbab-4c87-b3ba-ef4b0ed535a6",
   "metadata": {},
   "outputs": [],
   "source": [
    "fake = Faker(['es_mx', 'jp_jp', 'en_in'])\n",
    "[fake.name() for _ in range(10)]"
   ]
  },
  {
   "cell_type": "code",
   "execution_count": null,
   "id": "24ab8574-37ae-48dc-9fa7-21bc7c501dbf",
   "metadata": {},
   "outputs": [],
   "source": []
  }
 ],
 "metadata": {
  "kernelspec": {
   "display_name": "Python 3 (ipykernel)",
   "language": "python",
   "name": "python3"
  },
  "language_info": {
   "codemirror_mode": {
    "name": "ipython",
    "version": 3
   },
   "file_extension": ".py",
   "mimetype": "text/x-python",
   "name": "python",
   "nbconvert_exporter": "python",
   "pygments_lexer": "ipython3",
   "version": "3.11.7"
  }
 },
 "nbformat": 4,
 "nbformat_minor": 5
}
